{
 "cells": [
  {
   "cell_type": "code",
   "execution_count": 180,
   "metadata": {
    "collapsed": false
   },
   "outputs": [
    {
     "data": {
      "text/plain": [
       "28.080961821776377"
      ]
     },
     "execution_count": 180,
     "metadata": {},
     "output_type": "execute_result"
    }
   ],
   "source": [
    "N = 128\n",
    "px = rand(N)\n",
    "py = rand(N)\n",
    "pz = rand(N)\n",
    "m  = ones(Float64, N)\n",
    "\n",
    "x0=5.0; y0=0.0; z0=0.0;\n",
    "\n",
    "dx=px-x0; dy=py-y0; dz=pz-z0;\n",
    "\n",
    "dr2 = dx.^2+dy.^2+dz.^2;\n",
    "dr = sqrt(dr2)\n",
    "\n",
    "e_p = sum(m./dr)"
   ]
  },
  {
   "cell_type": "code",
   "execution_count": 181,
   "metadata": {
    "collapsed": false
   },
   "outputs": [
    {
     "name": "stdout",
     "output_type": "stream",
     "text": [
      "cm_p = sum(m) / dr = 28.078738782826825\n"
     ]
    },
    {
     "data": {
      "text/plain": [
       "0.007916534211545267"
      ]
     },
     "execution_count": 181,
     "metadata": {},
     "output_type": "execute_result"
    }
   ],
   "source": [
    "cmx = sum(px.*m)/sum(m)\n",
    "cmy = sum(py.*m)/sum(m)\n",
    "cmz = sum(pz.*m)/sum(m)\n",
    "\n",
    "dx = cmx-x0; dy=cmy-y0; dz=cmz-z0;\n",
    "dr2 = dx.^2+dy.^2+dz.^2;\n",
    "dr = sqrt(dr2)\n",
    "\n",
    "@show cm_p = sum(m)/dr\n",
    "\n",
    "abs((cm_p-e_p)/e_p*100)"
   ]
  },
  {
   "cell_type": "code",
   "execution_count": 182,
   "metadata": {
    "collapsed": false
   },
   "outputs": [
    {
     "name": "stdout",
     "output_type": "stream",
     "text": [
      "q_p = cm_p + dr .^ -5 * ((0.5qxx) .* dx .^ 2 + (0.5qyy) .* dy .^ 2 + (0.5qzz) .* dz .^ 2 + (qxy .* dx) .* dy + (qxz .* dx) .* dz + (qyz .* dy) .* dz) = 28.08080740199353\n"
     ]
    },
    {
     "data": {
      "text/plain": [
       "0.0005499091656075015"
      ]
     },
     "execution_count": 182,
     "metadata": {},
     "output_type": "execute_result"
    }
   ],
   "source": [
    "dx= cmx-px; dy=cmy-py; dz=cmz-pz;\n",
    "dr2=dx.^2+dy.^2+dz.^2;\n",
    "qxx = 0.0\n",
    "qyy = 0.0\n",
    "qxy = 0.0\n",
    "qxz = 0.0\n",
    "qyz = 0.0\n",
    "@inbounds for i in 1:N\n",
    "    _m = m[i]\n",
    "    _dr2 = dr2[i]\n",
    "    _dx=dx[i]; _dy=dy[i];_dz=dz[i]\n",
    "    qxx += _m*(3*_dx*_dx - _dr2)\n",
    "    qyy += _m*(3*_dy*_dy - _dr2)\n",
    "    qxy += _m*_dx*_dy\n",
    "    qxz += _m*_dx*_dz\n",
    "    qyz += _m*_dy*_dz\n",
    "end\n",
    "qxy*=3.0\n",
    "qxz*=3.0\n",
    "qyz*=3.0\n",
    "qzz = -qxx-qyy;\n",
    "\n",
    "dx = cmx-x0; dy=cmy-y0; dz=cmz-z0;\n",
    "dr2 = dx.^2+dy.^2+dz.^2;\n",
    "dr = sqrt(dr2)\n",
    "\n",
    "@show q_p = cm_p + dr.^(-5)*(\n",
    "    0.5*qxx.*dx.^2 + 0.5*qyy.*dy.^2 + 0.5*qzz.*dz.^2 + \n",
    "    qxy.*dx.*dy + qxz.*dx.*dz + qyz.*dy.*dz)\n",
    "abs((q_p-e_p)/e_p*100)"
   ]
  },
  {
   "cell_type": "code",
   "execution_count": 184,
   "metadata": {
    "collapsed": false
   },
   "outputs": [
    {
     "data": {
      "text/plain": [
       "1.2915496650148839"
      ]
     },
     "execution_count": 184,
     "metadata": {},
     "output_type": "execute_result"
    }
   ],
   "source": [
    "0.1^(-1/9)"
   ]
  },
  {
   "cell_type": "code",
   "execution_count": null,
   "metadata": {
    "collapsed": true
   },
   "outputs": [],
   "source": []
  }
 ],
 "metadata": {
  "anaconda-cloud": {},
  "kernelspec": {
   "display_name": "Julia 0.5.0",
   "language": "julia",
   "name": "julia-0.5"
  },
  "language_info": {
   "file_extension": ".jl",
   "mimetype": "application/julia",
   "name": "julia",
   "version": "0.5.0"
  }
 },
 "nbformat": 4,
 "nbformat_minor": 2
}
