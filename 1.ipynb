{
 "cells": [
  {
   "cell_type": "code",
   "execution_count": 1,
   "metadata": {
    "collapsed": false
   },
   "outputs": [],
   "source": [
    "#using PyPlot\n",
    "include(\"lib/all.jl\");"
   ]
  },
  {
   "cell_type": "code",
   "execution_count": 2,
   "metadata": {
    "collapsed": false
   },
   "outputs": [],
   "source": [
    "N=2^25\n",
    "ax = zeros(N)\n",
    "ay = zeros(N)\n",
    "az = zeros(N);\n",
    "\n",
    "particles = make_particles(N);\n",
    "t = DTree(particles, 12);"
   ]
  },
  {
   "cell_type": "code",
   "execution_count": 3,
   "metadata": {
    "collapsed": false
   },
   "outputs": [
    {
     "name": "stdout",
     "output_type": "stream",
     "text": [
      "  0.224079 seconds (3.99 k allocations: 175.127 KB)\n"
     ]
    }
   ],
   "source": [
    "@time fill!(t.tree.nodes, Node());"
   ]
  },
  {
   "cell_type": "code",
   "execution_count": 4,
   "metadata": {
    "collapsed": false
   },
   "outputs": [
    {
     "name": "stdout",
     "output_type": "stream",
     "text": [
      "  0.250187 seconds (3.88 k allocations: 173.174 KB)\n"
     ]
    }
   ],
   "source": [
    "@time fill!(t.tree.exps, NodeExp());"
   ]
  },
  {
   "cell_type": "code",
   "execution_count": 5,
   "metadata": {
    "collapsed": false
   },
   "outputs": [
    {
     "name": "stdout",
     "output_type": "stream",
     "text": [
      "  "
     ]
    }
   ],
   "source": [
    "@time group!(t);"
   ]
  },
  {
   "cell_type": "code",
   "execution_count": 6,
   "metadata": {
    "collapsed": false
   },
   "outputs": [
    {
     "name": "stdout",
     "output_type": "stream",
     "text": [
      "  1.019492 seconds (21.83 M allocations: 336.265 MB, 7.39% gc time)\n"
     ]
    }
   ],
   "source": [
    "@time inform!(t);"
   ]
  },
  {
   "cell_type": "code",
   "execution_count": 7,
   "metadata": {
    "collapsed": false
   },
   "outputs": [],
   "source": [
    "fill!(ax,0.0)\n",
    "fill!(ay,0.0)\n",
    "fill!(az,0.0);"
   ]
  },
  {
   "cell_type": "code",
   "execution_count": 8,
   "metadata": {
    "collapsed": false
   },
   "outputs": [
    {
     "name": "stdout",
     "output_type": "stream",
     "text": [
      "  "
     ]
    }
   ],
   "source": [
    "@time interact!(t, 0.3, ax, ay, az, 1.0e-3);"
   ]
  },
  {
   "cell_type": "code",
   "execution_count": 9,
   "metadata": {
    "collapsed": false
   },
   "outputs": [
    {
     "name": "stdout",
     "output_type": "stream",
     "text": [
      "  2.941971 seconds (242.79 M allocations: 3.620 GB, 9.81% gc time)\n"
     ]
    }
   ],
   "source": [
    "@time collect!(t)"
   ]
  },
  {
   "cell_type": "code",
   "execution_count": 10,
   "metadata": {
    "collapsed": false
   },
   "outputs": [
    {
     "name": "stdout",
     "output_type": "stream",
     "text": [
      "  0.302225 seconds (72.31 k allocations: 2.335 MB)\n"
     ]
    }
   ],
   "source": [
    "@time accel!(t, ax,ay,az)"
   ]
  },
  {
   "cell_type": "code",
   "execution_count": 11,
   "metadata": {
    "collapsed": false
   },
   "outputs": [
    {
     "data": {
      "text/plain": [
       "165.32256969711847"
      ]
     },
     "execution_count": 11,
     "metadata": {},
     "output_type": "execute_result"
    }
   ],
   "source": [
    "mean(abs(ax))/1e5"
   ]
  },
  {
   "cell_type": "code",
   "execution_count": 57,
   "metadata": {
    "collapsed": false,
    "scrolled": true
   },
   "outputs": [
    {
     "name": "stdout",
     "output_type": "stream",
     "text": [
      "mean(abs(rax)) = 508432.1386244696\n",
      "[0.0,0.0,1.0,0.0,0.0,4.0,11.0,23.0,52.0,101.0,220.0,458.0,847.0,1486.0,1931.0,1919.0,1438.0,831.0,402.0,153.0,64.0,31.0,18.0,5.0,3.0,1.0,0.0,1.0,0.0,0.0,0.0,0.0,0.0,0.0]"
     ]
    }
   ],
   "source": [
    "mx,myd,e50,e90,e95,e99,m,s = perf(particles, ax,ay,az, 10000, 1.0e-3)\n",
    "print(myd)"
   ]
  },
  {
   "cell_type": "code",
   "execution_count": 58,
   "metadata": {
    "collapsed": false
   },
   "outputs": [
    {
     "ename": "LoadError",
     "evalue": "UndefVarError: semilogx not defined",
     "output_type": "error",
     "traceback": [
      "UndefVarError: semilogx not defined",
      ""
     ]
    }
   ],
   "source": [
    "semilogx(10.^mx,myd,\"-k\")"
   ]
  },
  {
   "cell_type": "code",
   "execution_count": 59,
   "metadata": {
    "collapsed": false
   },
   "outputs": [
    {
     "data": {
      "text/plain": [
       "0.5709433750039612"
      ]
     },
     "execution_count": 59,
     "metadata": {},
     "output_type": "execute_result"
    }
   ],
   "source": [
    "e50"
   ]
  },
  {
   "cell_type": "code",
   "execution_count": 60,
   "metadata": {
    "collapsed": false
   },
   "outputs": [
    {
     "data": {
      "text/plain": [
       "1.1480828500562679"
      ]
     },
     "execution_count": 60,
     "metadata": {},
     "output_type": "execute_result"
    }
   ],
   "source": [
    "e90"
   ]
  },
  {
   "cell_type": "code",
   "execution_count": 61,
   "metadata": {
    "collapsed": false
   },
   "outputs": [
    {
     "data": {
      "text/plain": [
       "2.4839207584401035"
      ]
     },
     "execution_count": 61,
     "metadata": {},
     "output_type": "execute_result"
    }
   ],
   "source": [
    "e99"
   ]
  },
  {
   "cell_type": "code",
   "execution_count": 17,
   "metadata": {
    "collapsed": false
   },
   "outputs": [
    {
     "data": {
      "text/plain": [
       "doall (generic function with 1 method)"
      ]
     },
     "execution_count": 17,
     "metadata": {},
     "output_type": "execute_result"
    }
   ],
   "source": [
    "function doall(t, ax,ay,az, alpha, eps2)\n",
    "    total_mass = t.trees[1].total_mass\n",
    "    for it in t.trees\n",
    "        fill!(it.exps, NodeExp());\n",
    "        it.total_mass = total_mass\n",
    "    end\n",
    "    tic()\n",
    "    group!(t)\n",
    "    t_group = toq()\n",
    "    tic()\n",
    "    inform!(t)\n",
    "    t_inf = toq()\n",
    "    fill!(ax,0.0)\n",
    "    fill!(ay,0.0)\n",
    "    fill!(az,0.0)\n",
    "    tic()\n",
    "    interact!(t, alpha, ax, ay, az, eps2)\n",
    "    t_int = toq()\n",
    "    tic()\n",
    "    collect!(t)\n",
    "    t_coll = toq()\n",
    "    tic()\n",
    "    accel!(t,ax,ay,az)\n",
    "    t_acc = toq()\n",
    "    t_group, t_inf, t_int, t_coll, t_acc\n",
    "end"
   ]
  },
  {
   "cell_type": "code",
   "execution_count": null,
   "metadata": {
    "collapsed": false
   },
   "outputs": [
    {
     "name": "stdout",
     "output_type": "stream",
     "text": [
      "i = 1\n",
      "i = "
     ]
    }
   ],
   "source": [
    "s_g = Float64[]\n",
    "s_inf = Float64[]\n",
    "s_int = Float64[]\n",
    "s_coll = Float64[]\n",
    "s_acc = Float64[]\n",
    "s_all = Float64[]\n",
    "for i in 1:20\n",
    "    tic()\n",
    "    t_group, t_inf, t_int, t_coll, t_acc = doall(t, ax, ay, az, 0.3, 1.0e-3);\n",
    "    t_all = toq()\n",
    "    append!(s_g, t_group)\n",
    "    append!(s_inf, t_inf)\n",
    "    append!(s_int, t_int)\n",
    "    append!(s_coll, t_coll)\n",
    "    append!(s_acc, t_acc)\n",
    "    append!(s_all, t_all)\n",
    "    @show i\n",
    "end"
   ]
  },
  {
   "cell_type": "code",
   "execution_count": null,
   "metadata": {
    "collapsed": false
   },
   "outputs": [],
   "source": [
    "@show mean(s_g)\n",
    "@show mean(s_inf)\n",
    "@show mean(s_int)\n",
    "@show mean(s_coll)\n",
    "@show mean(s_acc)\n",
    "@show mean(s_all);"
   ]
  },
  {
   "cell_type": "code",
   "execution_count": 16,
   "metadata": {
    "collapsed": false
   },
   "outputs": [
    {
     "name": "stdout",
     "output_type": "stream",
     "text": [
      "mean(s_g) = 1.3853150495000002\n",
      "mean(s_inf) = 0.7206255572\n",
      "mean(s_int) = 1.8021083284\n",
      "mean(s_coll) = 2.9465398244\n",
      "mean(s_acc) = 0.24285650790000002\n",
      "mean(s_all) = 7.644699567650001\n"
     ]
    }
   ],
   "source": [
    "@show mean(s_g)\n",
    "@show mean(s_inf)\n",
    "@show mean(s_int)\n",
    "@show mean(s_coll)\n",
    "@show mean(s_acc)\n",
    "@show mean(s_all);"
   ]
  },
  {
   "cell_type": "code",
   "execution_count": 10,
   "metadata": {
    "collapsed": false
   },
   "outputs": [
    {
     "data": {
      "text/plain": [
       "0.6026886456755053"
      ]
     },
     "execution_count": 10,
     "metadata": {},
     "output_type": "execute_result"
    }
   ],
   "source": [
    "t.trees[1].num_nodes_used / length(t.trees[1].nodes)"
   ]
  },
  {
   "cell_type": "code",
   "execution_count": 11,
   "metadata": {
    "collapsed": false
   },
   "outputs": [
    {
     "data": {
      "text/plain": [
       "1.700000025331974"
      ]
     },
     "execution_count": 11,
     "metadata": {},
     "output_type": "execute_result"
    }
   ],
   "source": [
    "sizeof(t.tree.nodes)/2^30"
   ]
  },
  {
   "cell_type": "code",
   "execution_count": 12,
   "metadata": {
    "collapsed": false
   },
   "outputs": [
    {
     "data": {
      "text/plain": [
       "3.725290298461914e-8"
      ]
     },
     "execution_count": 12,
     "metadata": {},
     "output_type": "execute_result"
    }
   ],
   "source": [
    "sizeof(t.tree.particles)/2^30"
   ]
  },
  {
   "cell_type": "code",
   "execution_count": 13,
   "metadata": {
    "collapsed": false
   },
   "outputs": [
    {
     "data": {
      "text/plain": [
       "1.9000000283122063"
      ]
     },
     "execution_count": 13,
     "metadata": {},
     "output_type": "execute_result"
    }
   ],
   "source": [
    "sizeof(t.tree.exps)/2^30"
   ]
  },
  {
   "cell_type": "code",
   "execution_count": 14,
   "metadata": {
    "collapsed": false
   },
   "outputs": [
    {
     "data": {
      "text/plain": [
       "2.0"
      ]
     },
     "execution_count": 14,
     "metadata": {},
     "output_type": "execute_result"
    }
   ],
   "source": [
    "sizeof(ax)*4*2/2^30"
   ]
  },
  {
   "cell_type": "code",
   "execution_count": 15,
   "metadata": {
    "collapsed": false
   },
   "outputs": [
    {
     "data": {
      "text/plain": [
       "9.35"
      ]
     },
     "execution_count": 15,
     "metadata": {},
     "output_type": "execute_result"
    }
   ],
   "source": [
    "1.7+3.75+1.9+2"
   ]
  },
  {
   "cell_type": "code",
   "execution_count": 16,
   "metadata": {
    "collapsed": false
   },
   "outputs": [
    {
     "data": {
      "text/plain": [
       "219.0374331550802"
      ]
     },
     "execution_count": 16,
     "metadata": {},
     "output_type": "execute_result"
    }
   ],
   "source": [
    "64/9.35*2^25/2^20"
   ]
  },
  {
   "cell_type": "code",
   "execution_count": null,
   "metadata": {
    "collapsed": true
   },
   "outputs": [],
   "source": []
  }
 ],
 "metadata": {
  "anaconda-cloud": {},
  "kernelspec": {
   "display_name": "Julia 0.5.0",
   "language": "julia",
   "name": "julia-0.5"
  },
  "language_info": {
   "file_extension": ".jl",
   "mimetype": "application/julia",
   "name": "julia",
   "version": "0.5.0"
  }
 },
 "nbformat": 4,
 "nbformat_minor": 2
}
