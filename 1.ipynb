{
 "cells": [
  {
   "cell_type": "code",
   "execution_count": 1,
   "metadata": {
    "collapsed": false
   },
   "outputs": [],
   "source": [
    "#using PyPlot\n",
    "include(\"lib/all.jl\");"
   ]
  },
  {
   "cell_type": "code",
   "execution_count": 40,
   "metadata": {
    "collapsed": false
   },
   "outputs": [],
   "source": [
    "N=2^26\n",
    "ax = zeros(N)\n",
    "ay = zeros(N)\n",
    "az = zeros(N);\n",
    "\n",
    "particles = make_particles(N);\n",
    "t = DTree(particles, 12);"
   ]
  },
  {
   "cell_type": "code",
   "execution_count": 41,
   "metadata": {
    "collapsed": false
   },
   "outputs": [
    {
     "name": "stdout",
     "output_type": "stream",
     "text": [
      "  0.313662 seconds (5 allocations: 304 bytes)\n"
     ]
    }
   ],
   "source": [
    "@time fill!(t.tree.nodes, Node());"
   ]
  },
  {
   "cell_type": "code",
   "execution_count": 42,
   "metadata": {
    "collapsed": false
   },
   "outputs": [
    {
     "name": "stdout",
     "output_type": "stream",
     "text": [
      "  0.188799 seconds (5 allocations: 240 bytes)\n"
     ]
    }
   ],
   "source": [
    "@time fill!(t.tree.exps, NodeExp());"
   ]
  },
  {
   "cell_type": "code",
   "execution_count": 43,
   "metadata": {
    "collapsed": false
   },
   "outputs": [
    {
     "name": "stdout",
     "output_type": "stream",
     "text": [
      "  2.989372 seconds (6 allocations: 208 bytes)\n"
     ]
    }
   ],
   "source": [
    "@time group!(t);"
   ]
  },
  {
   "cell_type": "code",
   "execution_count": 44,
   "metadata": {
    "collapsed": false
   },
   "outputs": [
    {
     "name": "stdout",
     "output_type": "stream",
     "text": [
      "  1.832113 seconds (40.90 M allocations: 622.788 MB, 19.71% gc time)\n"
     ]
    }
   ],
   "source": [
    "@time inform!(t);"
   ]
  },
  {
   "cell_type": "code",
   "execution_count": 45,
   "metadata": {
    "collapsed": false
   },
   "outputs": [],
   "source": [
    "fill!(ax,0.0)\n",
    "fill!(ay,0.0)\n",
    "fill!(az,0.0);"
   ]
  },
  {
   "cell_type": "code",
   "execution_count": 46,
   "metadata": {
    "collapsed": false
   },
   "outputs": [
    {
     "name": "stdout",
     "output_type": "stream",
     "text": [
      "  2.624350 seconds (1.25 M allocations: 19.002 MB)\n"
     ]
    }
   ],
   "source": [
    "@time interact!(t, 0.26, ax, ay, az, 1.0e-3);"
   ]
  },
  {
   "cell_type": "code",
   "execution_count": 47,
   "metadata": {
    "collapsed": false
   },
   "outputs": [
    {
     "name": "stdout",
     "output_type": "stream",
     "text": [
      "  0.515825 seconds (4 allocations: 160 bytes)\n"
     ]
    }
   ],
   "source": [
    "@time collect!(t)"
   ]
  },
  {
   "cell_type": "code",
   "execution_count": 48,
   "metadata": {
    "collapsed": false
   },
   "outputs": [
    {
     "name": "stdout",
     "output_type": "stream",
     "text": [
      "  0.455607 seconds (15 allocations: 672 bytes)\n"
     ]
    }
   ],
   "source": [
    "@time accel!(t, ax,ay,az)"
   ]
  },
  {
   "cell_type": "code",
   "execution_count": 49,
   "metadata": {
    "collapsed": false
   },
   "outputs": [
    {
     "data": {
      "text/plain": [
       "330.78683998926317"
      ]
     },
     "execution_count": 49,
     "metadata": {},
     "output_type": "execute_result"
    }
   ],
   "source": [
    "mean(abs(ax))/1e5"
   ]
  },
  {
   "cell_type": "code",
   "execution_count": 52,
   "metadata": {
    "collapsed": false,
    "scrolled": true
   },
   "outputs": [
    {
     "name": "stdout",
     "output_type": "stream",
     "text": [
      "mean(abs(rax)) = 3.3337262296028808e7\n",
      "[0.0,0.0,0.0,0.0,0.0,0.0,0.0,0.0,0.0,0.0,0.0,2.0,3.0,7.0,15.0,21.0,21.0,11.0,13.0,3.0,2.0,0.0,0.0,2.0,0.0,0.0,0.0,0.0,0.0,0.0,0.0,0.0,0.0,0.0]"
     ]
    }
   ],
   "source": [
    "mx,myd,e50,e90,e95,e99,m,s = perf(particles, ax,ay,az, 100, 1.0e-3)\n",
    "print(myd)"
   ]
  },
  {
   "cell_type": "code",
   "execution_count": 53,
   "metadata": {
    "collapsed": false
   },
   "outputs": [
    {
     "ename": "LoadError",
     "evalue": "UndefVarError: semilogx not defined",
     "output_type": "error",
     "traceback": [
      "UndefVarError: semilogx not defined",
      ""
     ]
    }
   ],
   "source": [
    "semilogx(10.^mx,myd,\"-k\")"
   ]
  },
  {
   "cell_type": "code",
   "execution_count": 54,
   "metadata": {
    "collapsed": false
   },
   "outputs": [
    {
     "data": {
      "text/plain": [
       "0.7699370245018224"
      ]
     },
     "execution_count": 54,
     "metadata": {},
     "output_type": "execute_result"
    }
   ],
   "source": [
    "e50"
   ]
  },
  {
   "cell_type": "code",
   "execution_count": 55,
   "metadata": {
    "collapsed": false
   },
   "outputs": [
    {
     "data": {
      "text/plain": [
       "1.5502624688333895"
      ]
     },
     "execution_count": 55,
     "metadata": {},
     "output_type": "execute_result"
    }
   ],
   "source": [
    "e90"
   ]
  },
  {
   "cell_type": "code",
   "execution_count": 56,
   "metadata": {
    "collapsed": false
   },
   "outputs": [
    {
     "data": {
      "text/plain": [
       "5.4911230475802935"
      ]
     },
     "execution_count": 56,
     "metadata": {},
     "output_type": "execute_result"
    }
   ],
   "source": [
    "e99"
   ]
  },
  {
   "cell_type": "code",
   "execution_count": 33,
   "metadata": {
    "collapsed": false
   },
   "outputs": [
    {
     "data": {
      "text/plain": [
       "doall (generic function with 1 method)"
      ]
     },
     "execution_count": 33,
     "metadata": {},
     "output_type": "execute_result"
    }
   ],
   "source": [
    "function doall(t, ax,ay,az, alpha, eps2)\n",
    "    total_mass = t.trees[1].total_mass\n",
    "    for it in t.trees\n",
    "        fill!(it.exps, NodeExp());\n",
    "        it.total_mass = total_mass\n",
    "    end\n",
    "    tic()\n",
    "    group!(t)\n",
    "    t_group = toq()\n",
    "    tic()\n",
    "    inform!(t)\n",
    "    t_inf = toq()\n",
    "    fill!(ax,0.0)\n",
    "    fill!(ay,0.0)\n",
    "    fill!(az,0.0)\n",
    "    tic()\n",
    "    interact!(t, alpha, ax, ay, az, eps2)\n",
    "    t_int = toq()\n",
    "    tic()\n",
    "    collect!(t)\n",
    "    t_coll = toq()\n",
    "    tic()\n",
    "    accel!(t,ax,ay,az)\n",
    "    t_acc = toq()\n",
    "    t_group, t_inf, t_int, t_coll, t_acc\n",
    "end"
   ]
  },
  {
   "cell_type": "code",
   "execution_count": 34,
   "metadata": {
    "collapsed": false
   },
   "outputs": [
    {
     "data": {
      "text/plain": [
       "(0.038793923,0.024093969,0.334581141,0.007797423,0.006346059)"
      ]
     },
     "execution_count": 34,
     "metadata": {},
     "output_type": "execute_result"
    }
   ],
   "source": [
    "doall(t, ax, ay, az, 0.22, 1.0e-3)"
   ]
  },
  {
   "cell_type": "code",
   "execution_count": 50,
   "metadata": {
    "collapsed": false
   },
   "outputs": [
    {
     "name": "stdout",
     "output_type": "stream",
     "text": [
      "i = 1\n",
      "i = 2\n",
      "i = 3\n",
      "i = 4\n",
      "i = 5\n",
      "i = 6\n",
      "i = 7\n",
      "i = 8\n",
      "i = 9\n",
      "i = 10\n"
     ]
    }
   ],
   "source": [
    "s_g = Float64[]\n",
    "s_inf = Float64[]\n",
    "s_int = Float64[]\n",
    "s_coll = Float64[]\n",
    "s_acc = Float64[]\n",
    "s_all = Float64[]\n",
    "for i in 1:10\n",
    "    tic()\n",
    "    t_group, t_inf, t_int, t_coll, t_acc = doall(t, ax, ay, az, 0.26, 1.0e-3);\n",
    "    t_all = toq()\n",
    "    append!(s_g, t_group)\n",
    "    append!(s_inf, t_inf)\n",
    "    append!(s_int, t_int)\n",
    "    append!(s_coll, t_coll)\n",
    "    append!(s_acc, t_acc)\n",
    "    append!(s_all, t_all)\n",
    "    @show i\n",
    "end"
   ]
  },
  {
   "cell_type": "code",
   "execution_count": 51,
   "metadata": {
    "collapsed": false
   },
   "outputs": [
    {
     "name": "stdout",
     "output_type": "stream",
     "text": [
      "mean(s_g) = 2.9766350332\n",
      "mean(s_inf) = 1.6830599148\n",
      "mean(s_int) = 2.6663258053999996\n",
      "mean(s_coll) = 0.5391061176999999\n",
      "mean(s_acc) = 0.4404352171\n",
      "mean(s_all) = 8.663435967200002\n"
     ]
    }
   ],
   "source": [
    "@show mean(s_g)\n",
    "@show mean(s_inf)\n",
    "@show mean(s_int)\n",
    "@show mean(s_coll)\n",
    "@show mean(s_acc)\n",
    "@show mean(s_all);"
   ]
  },
  {
   "cell_type": "code",
   "execution_count": 20,
   "metadata": {
    "collapsed": false
   },
   "outputs": [
    {
     "data": {
      "text/plain": [
       "5.74"
      ]
     },
     "execution_count": 20,
     "metadata": {},
     "output_type": "execute_result"
    }
   ],
   "source": [
    "8.63-2.89"
   ]
  },
  {
   "cell_type": "code",
   "execution_count": 29,
   "metadata": {
    "collapsed": false
   },
   "outputs": [
    {
     "data": {
      "text/plain": [
       "0.77694057820735"
      ]
     },
     "execution_count": 29,
     "metadata": {},
     "output_type": "execute_result"
    }
   ],
   "source": [
    "t.trees[1].num_nodes_used / length(t.trees[1].nodes)"
   ]
  },
  {
   "cell_type": "code",
   "execution_count": 30,
   "metadata": {
    "collapsed": false
   },
   "outputs": [
    {
     "data": {
      "text/plain": [
       "2.6350000202655792"
      ]
     },
     "execution_count": 30,
     "metadata": {},
     "output_type": "execute_result"
    }
   ],
   "source": [
    "sizeof(t.tree.nodes)/2^30"
   ]
  },
  {
   "cell_type": "code",
   "execution_count": 31,
   "metadata": {
    "collapsed": false
   },
   "outputs": [
    {
     "data": {
      "text/plain": [
       "2.0"
      ]
     },
     "execution_count": 31,
     "metadata": {},
     "output_type": "execute_result"
    }
   ],
   "source": [
    "length(t.tree.particles)*sizeof(t.tree.particles[1])/2^30"
   ]
  },
  {
   "cell_type": "code",
   "execution_count": 32,
   "metadata": {
    "collapsed": false
   },
   "outputs": [
    {
     "data": {
      "text/plain": [
       "1.395000010728836"
      ]
     },
     "execution_count": 32,
     "metadata": {},
     "output_type": "execute_result"
    }
   ],
   "source": [
    "sizeof(t.tree.exps)/2^30"
   ]
  },
  {
   "cell_type": "code",
   "execution_count": 38,
   "metadata": {
    "collapsed": false
   },
   "outputs": [
    {
     "data": {
      "text/plain": [
       "4.0"
      ]
     },
     "execution_count": 38,
     "metadata": {},
     "output_type": "execute_result"
    }
   ],
   "source": [
    "sizeof(ax)*4*2/2^30"
   ]
  },
  {
   "cell_type": "code",
   "execution_count": 39,
   "metadata": {
    "collapsed": false
   },
   "outputs": [
    {
     "data": {
      "text/plain": [
       "10.0"
      ]
     },
     "execution_count": 39,
     "metadata": {},
     "output_type": "execute_result"
    }
   ],
   "source": [
    "2.6+2.0+1.4+4"
   ]
  },
  {
   "cell_type": "code",
   "execution_count": 40,
   "metadata": {
    "collapsed": false
   },
   "outputs": [
    {
     "data": {
      "text/plain": [
       "409.6"
      ]
     },
     "execution_count": 40,
     "metadata": {},
     "output_type": "execute_result"
    }
   ],
   "source": [
    "64/10*2^26/2^20"
   ]
  },
  {
   "cell_type": "code",
   "execution_count": null,
   "metadata": {
    "collapsed": true
   },
   "outputs": [],
   "source": []
  }
 ],
 "metadata": {
  "anaconda-cloud": {},
  "kernelspec": {
   "display_name": "Julia 0.5.0",
   "language": "julia",
   "name": "julia-0.5"
  },
  "language_info": {
   "file_extension": ".jl",
   "mimetype": "application/julia",
   "name": "julia",
   "version": "0.5.0"
  }
 },
 "nbformat": 4,
 "nbformat_minor": 2
}
