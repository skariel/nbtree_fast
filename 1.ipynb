{
 "cells": [
  {
   "cell_type": "code",
   "execution_count": 6,
   "metadata": {
    "collapsed": false
   },
   "outputs": [
    {
     "name": "stderr",
     "output_type": "stream",
     "text": [
      "WARNING: Method definition (::Type{Main.Particle})(Float64, Float64, Float64, Float64, Int64) in module Main at /home/skariel/Desktop/nbtree/lib/particles.jl:2 overwritten at /home/skariel/Desktop/nbtree/lib/particles.jl:2.\n",
      "WARNING: Method definition (::Type{Main.Particle})(Any, Any, Any, Any, Any) in module Main at /home/skariel/Desktop/nbtree/lib/particles.jl:2 overwritten at /home/skariel/Desktop/nbtree/lib/particles.jl:2.\n",
      "WARNING: Method definition myrand() in module Main at /home/skariel/Desktop/nbtree/lib/particles.jl:10 overwritten at /home/skariel/Desktop/nbtree/lib/particles.jl:10.\n",
      "WARNING: Method definition make_particles(Any) in module Main at /home/skariel/Desktop/nbtree/lib/particles.jl:17 overwritten at /home/skariel/Desktop/nbtree/lib/particles.jl:17.\n",
      "WARNING: Method definition (::Type{Main.Node})(Float64, Float64, Float64, Float64, Float64, Float64, Float64, Float64, Float64, Float64, Float64, Int64, Int64, Int64, Int64, Int64, Int64, Float64, Float64, Float64, Float64, Float64, Float64, Float64, Float64, Float64, Float64, Float64, Float64, Float64, Float64, Float64, Float64, Float64, Float64, Float64) in module Main at /home/skariel/Desktop/nbtree/lib/tree.jl:3 overwritten at /home/skariel/Desktop/nbtree/lib/tree.jl:3.\n",
      "WARNING: Method definition (::Type{Main.Node})(Any, Any, Any, Any, Any, Any, Any, Any, Any, Any, Any, Any, Any, Any, Any, Any, Any, Any, Any, Any, Any, Any, Any, Any, Any, Any, Any, Any, Any, Any, Any, Any, Any, Any, Any, Any) in module Main at /home/skariel/Desktop/nbtree/lib/tree.jl:3 overwritten at /home/skariel/Desktop/nbtree/lib/tree.jl:3.\n",
      "WARNING: Method definition (::Type{Main.Tree})(Float64, Array{Main.Node, 1}, Array{Main.Particle, 1}, Array{Int64, 1}, Array{Int64, 1}, Array{Int64, 1}, Int64, Int64) in module Main at /home/skariel/Desktop/nbtree/lib/tree.jl:43 overwritten at /home/skariel/Desktop/nbtree/lib/tree.jl:43.\n",
      "WARNING: Method definition (::Type{Main.Tree})(Any, Any, Any, Any, Any, Any, Any, Any) in module Main at /home/skariel/Desktop/nbtree/lib/tree.jl:43 overwritten at /home/skariel/Desktop/nbtree/lib/tree.jl:43.\n",
      "WARNING: Method definition (::Type{Main.Tree})(Any, Any) in module Main at /home/skariel/Desktop/nbtree/lib/tree.jl:54 overwritten at /home/skariel/Desktop/nbtree/lib/tree.jl:54.\n",
      "WARNING: Method definition getminmax(Main.Tree) in module Main at /home/skariel/Desktop/nbtree/lib/tree.jl:59 overwritten at /home/skariel/Desktop/nbtree/lib/tree.jl:59.\n",
      "WARNING: Method definition get_minmax_low(Main.Node) in module Main at /home/skariel/Desktop/nbtree/lib/tree.jl:89 overwritten at /home/skariel/Desktop/nbtree/lib/tree.jl:89.\n",
      "WARNING: Method definition get_minmax_high(Main.Node) in module Main at /home/skariel/Desktop/nbtree/lib/tree.jl:101 overwritten at /home/skariel/Desktop/nbtree/lib/tree.jl:101.\n",
      "WARNING: Method definition group!(Main.Tree) in module Main at /home/skariel/Desktop/nbtree/lib/tree.jl:113 overwritten at /home/skariel/Desktop/nbtree/lib/tree.jl:113.\n",
      "WARNING: Method definition split!(Any, Any, Any, Any, Any) in module Main at /home/skariel/Desktop/nbtree/lib/tree.jl:296 overwritten at /home/skariel/Desktop/nbtree/lib/tree.jl:296.\n",
      "WARNING: Method definition splitx!(Any, Any, Any, Any) in module Main at /home/skariel/Desktop/nbtree/lib/tree.jl:308 overwritten at /home/skariel/Desktop/nbtree/lib/tree.jl:308.\n",
      "WARNING: Method definition splity!(Any, Any, Any, Any) in module Main at /home/skariel/Desktop/nbtree/lib/tree.jl:309 overwritten at /home/skariel/Desktop/nbtree/lib/tree.jl:309.\n",
      "WARNING: Method definition splitz!(Any, Any, Any, Any) in module Main at /home/skariel/Desktop/nbtree/lib/tree.jl:310 overwritten at /home/skariel/Desktop/nbtree/lib/tree.jl:310.\n",
      "WARNING: Method definition splitdir!(Any, Any) in module Main at /home/skariel/Desktop/nbtree/lib/tree.jl:313 overwritten at /home/skariel/Desktop/nbtree/lib/tree.jl:313.\n",
      "WARNING: Method definition inform!(Main.Tree) in module Main at /home/skariel/Desktop/nbtree/lib/gravity.jl:2 overwritten at /home/skariel/Desktop/nbtree/lib/gravity.jl:2.\n",
      "WARNING: Method definition add_expansion_to_n1(Any, Any) in module Main at /home/skariel/Desktop/nbtree/lib/gravity.jl:136 overwritten at /home/skariel/Desktop/nbtree/lib/gravity.jl:136.\n",
      "WARNING: Method definition get_accel_from_node(Any, Any, Any, Any) in module Main at /home/skariel/Desktop/nbtree/lib/gravity.jl:249 overwritten at /home/skariel/Desktop/nbtree/lib/gravity.jl:249.\n",
      "WARNING: Method definition interact!(Main.Tree, Float64, Any, Any, Any) in module Main at /home/skariel/Desktop/nbtree/lib/gravity.jl:302 overwritten at /home/skariel/Desktop/nbtree/lib/gravity.jl:302.\n",
      "WARNING: Method definition get_acc(Any, Any, Any) in module Main at /home/skariel/Desktop/nbtree/lib/testing.jl:4 overwritten at /home/skariel/Desktop/nbtree/lib/testing.jl:4.\n",
      "WARNING: Method definition perf(Any, Any, Any, Any) in module Main at /home/skariel/Desktop/nbtree/lib/testing.jl:21 overwritten at /home/skariel/Desktop/nbtree/lib/testing.jl:21.\n",
      "WARNING: Method definition test_in_cell_mass(Main.Tree) in module Main at /home/skariel/Desktop/nbtree/lib/testing.jl:33 overwritten at /home/skariel/Desktop/nbtree/lib/testing.jl:33.\n",
      "WARNING: Method definition get_random_node() in module Main at /home/skariel/Desktop/nbtree/lib/testing.jl:147 overwritten at /home/skariel/Desktop/nbtree/lib/testing.jl:147.\n",
      "WARNING: Method definition calc_pot(Any, Any, Any, Any) in module Main at /home/skariel/Desktop/nbtree/lib/testing.jl:189 overwritten at /home/skariel/Desktop/nbtree/lib/testing.jl:189.\n",
      "WARNING: Method definition get_numerical_ax(Any, Any, Any, Any) in module Main at /home/skariel/Desktop/nbtree/lib/testing.jl:218 overwritten at /home/skariel/Desktop/nbtree/lib/testing.jl:218.\n",
      "WARNING: Method definition get_numerical_ay(Any, Any, Any, Any) in module Main at /home/skariel/Desktop/nbtree/lib/testing.jl:223 overwritten at /home/skariel/Desktop/nbtree/lib/testing.jl:223.\n",
      "WARNING: Method definition get_numerical_az(Any, Any, Any, Any) in module Main at /home/skariel/Desktop/nbtree/lib/testing.jl:228 overwritten at /home/skariel/Desktop/nbtree/lib/testing.jl:228.\n",
      "WARNING: Method definition test_acc() in module Main at /home/skariel/Desktop/nbtree/lib/testing.jl:233 overwritten at /home/skariel/Desktop/nbtree/lib/testing.jl:233.\n"
     ]
    }
   ],
   "source": [
    "include(\"lib/all.jl\");"
   ]
  },
  {
   "cell_type": "code",
   "execution_count": 8,
   "metadata": {
    "collapsed": false
   },
   "outputs": [
    {
     "data": {
      "text/plain": [
       "839685"
      ]
     },
     "execution_count": 8,
     "metadata": {},
     "output_type": "execute_result"
    }
   ],
   "source": [
    "test_acc()"
   ]
  },
  {
   "cell_type": "code",
   "execution_count": 9,
   "metadata": {
    "collapsed": false
   },
   "outputs": [],
   "source": [
    "particles = make_particles(2^20);\n",
    "t = Tree(particles, 16);"
   ]
  },
  {
   "cell_type": "code",
   "execution_count": null,
   "metadata": {
    "collapsed": false
   },
   "outputs": [],
   "source": [
    "@time group!(t);"
   ]
  },
  {
   "cell_type": "code",
   "execution_count": 11,
   "metadata": {
    "collapsed": false
   },
   "outputs": [
    {
     "name": "stdout",
     "output_type": "stream",
     "text": [
      "  0.151118 seconds (879.20 k allocations: 14.647 MB)\n"
     ]
    }
   ],
   "source": [
    "@time inform!(t);"
   ]
  },
  {
   "cell_type": "code",
   "execution_count": 12,
   "metadata": {
    "collapsed": false
   },
   "outputs": [],
   "source": [
    "test_in_cell_mass(t)"
   ]
  },
  {
   "cell_type": "code",
   "execution_count": 29,
   "metadata": {
    "collapsed": true
   },
   "outputs": [],
   "source": [
    "ax = zeros(length(particles))\n",
    "ay = zeros(length(particles))\n",
    "az = zeros(length(particles));"
   ]
  },
  {
   "cell_type": "code",
   "execution_count": 34,
   "metadata": {
    "collapsed": false
   },
   "outputs": [
    {
     "name": "stdout",
     "output_type": "stream",
     "text": [
      "  1.810878 seconds (4.81 M allocations: 1.506 GB, 1.86% gc time)\n"
     ]
    }
   ],
   "source": [
    "@time interact!(t, 0.5, ax, ay, az);"
   ]
  },
  {
   "cell_type": "code",
   "execution_count": null,
   "metadata": {
    "collapsed": true
   },
   "outputs": [],
   "source": []
  }
 ],
 "metadata": {
  "anaconda-cloud": {},
  "kernelspec": {
   "display_name": "Julia 0.5.0",
   "language": "julia",
   "name": "julia-0.5"
  },
  "language_info": {
   "file_extension": ".jl",
   "mimetype": "application/julia",
   "name": "julia",
   "version": "0.5.0"
  }
 },
 "nbformat": 4,
 "nbformat_minor": 2
}
