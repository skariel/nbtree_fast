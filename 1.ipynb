{
 "cells": [
  {
   "cell_type": "code",
   "execution_count": 1,
   "metadata": {
    "collapsed": false
   },
   "outputs": [],
   "source": [
    "include(\"lib/all.jl\");"
   ]
  },
  {
   "cell_type": "code",
   "execution_count": 2,
   "metadata": {
    "collapsed": false
   },
   "outputs": [
    {
     "data": {
      "text/plain": [
       "705833"
      ]
     },
     "execution_count": 2,
     "metadata": {},
     "output_type": "execute_result"
    }
   ],
   "source": [
    "test_mov()"
   ]
  },
  {
   "cell_type": "code",
   "execution_count": 3,
   "metadata": {
    "collapsed": false
   },
   "outputs": [
    {
     "data": {
      "text/plain": [
       "839855"
      ]
     },
     "execution_count": 3,
     "metadata": {},
     "output_type": "execute_result"
    }
   ],
   "source": [
    "test_acc()"
   ]
  },
  {
   "cell_type": "code",
   "execution_count": 4,
   "metadata": {
    "collapsed": false
   },
   "outputs": [],
   "source": [
    "particles = make_particles(2^20);\n",
    "t = Tree(particles, 12);"
   ]
  },
  {
   "cell_type": "code",
   "execution_count": 26,
   "metadata": {
    "collapsed": false
   },
   "outputs": [
    {
     "name": "stdout",
     "output_type": "stream",
     "text": [
      "  0.081803 seconds (4 allocations: 160 bytes)\n"
     ]
    }
   ],
   "source": [
    "@time group!(t);"
   ]
  },
  {
   "cell_type": "code",
   "execution_count": 27,
   "metadata": {
    "collapsed": false
   },
   "outputs": [
    {
     "name": "stdout",
     "output_type": "stream",
     "text": [
      "  0.068685 seconds (1.10 M allocations: 16.856 MB, 1.68% gc time)\n"
     ]
    }
   ],
   "source": [
    "@time inform!(t);"
   ]
  },
  {
   "cell_type": "code",
   "execution_count": 29,
   "metadata": {
    "collapsed": false
   },
   "outputs": [
    {
     "ename": "LoadError",
     "evalue": "MethodError: no method matching Node(::Float64, ::Float64, ::Float64, ::Float64, ::Float64, ::Float64, ::Float64, ::Float64, ::Float64, ::Float64, ::Float64, ::Int64, ::Int64, ::Int64, ::Int64, ::Int64, ::Int64)\u001b[0m\nClosest candidates are:\n  Node(::Any, ::Any, ::Any, ::Any, ::Any, ::Any, ::Any, ::Any, ::Any, ::Any) at /home/skariel/Desktop/nbtree/lib/tree.jl:37\n  Node(::Float64, ::Float64, ::Float64, ::Float64, ::Float64, \u001b[1m\u001b[31m::Int64\u001b[0m, \u001b[1m\u001b[31m::Int64\u001b[0m, \u001b[1m\u001b[31m::Int64\u001b[0m, \u001b[1m\u001b[31m::Int64\u001b[0m, \u001b[1m\u001b[31m::Int64\u001b[0m) at /home/skariel/Desktop/nbtree/lib/tree.jl:37\n  Node{T}(::Any) at sysimg.jl:53\u001b[0m",
     "output_type": "error",
     "traceback": [
      "MethodError: no method matching Node(::Float64, ::Float64, ::Float64, ::Float64, ::Float64, ::Float64, ::Float64, ::Float64, ::Float64, ::Float64, ::Float64, ::Int64, ::Int64, ::Int64, ::Int64, ::Int64, ::Int64)\u001b[0m\nClosest candidates are:\n  Node(::Any, ::Any, ::Any, ::Any, ::Any, ::Any, ::Any, ::Any, ::Any, ::Any) at /home/skariel/Desktop/nbtree/lib/tree.jl:37\n  Node(::Float64, ::Float64, ::Float64, ::Float64, ::Float64, \u001b[1m\u001b[31m::Int64\u001b[0m, \u001b[1m\u001b[31m::Int64\u001b[0m, \u001b[1m\u001b[31m::Int64\u001b[0m, \u001b[1m\u001b[31m::Int64\u001b[0m, \u001b[1m\u001b[31m::Int64\u001b[0m) at /home/skariel/Desktop/nbtree/lib/tree.jl:37\n  Node{T}(::Any) at sysimg.jl:53\u001b[0m",
      "",
      " in test_exp() at /home/skariel/Desktop/nbtree/lib/testing.jl:355"
     ]
    }
   ],
   "source": [
    "test_exp();"
   ]
  },
  {
   "cell_type": "code",
   "execution_count": 30,
   "metadata": {
    "collapsed": false
   },
   "outputs": [
    {
     "ename": "LoadError",
     "evalue": "type Node has no field maxx",
     "output_type": "error",
     "traceback": [
      "type Node has no field maxx",
      "",
      " in test_in_cell_mass(::Tree) at /home/skariel/Desktop/nbtree/lib/testing.jl:77"
     ]
    }
   ],
   "source": [
    "test_in_cell_mass(t)"
   ]
  },
  {
   "cell_type": "code",
   "execution_count": 31,
   "metadata": {
    "collapsed": true
   },
   "outputs": [],
   "source": [
    "ax = zeros(length(particles))\n",
    "ay = zeros(length(particles))\n",
    "az = zeros(length(particles));"
   ]
  },
  {
   "cell_type": "code",
   "execution_count": 32,
   "metadata": {
    "collapsed": false
   },
   "outputs": [
    {
     "name": "stdout",
     "output_type": "stream",
     "text": [
      "  1.488059 seconds (4 allocations: 160 bytes)\n"
     ]
    }
   ],
   "source": [
    "@time interact!(t, 0.5, ax, ay, az);"
   ]
  },
  {
   "cell_type": "code",
   "execution_count": 33,
   "metadata": {
    "collapsed": false
   },
   "outputs": [
    {
     "name": "stdout",
     "output_type": "stream",
     "text": [
      "  0.141525 seconds (8.30 M allocations: 126.664 MB, 48.92% gc time)\n"
     ]
    }
   ],
   "source": [
    "@time collect!(t, ax,ay,az)"
   ]
  },
  {
   "cell_type": "code",
   "execution_count": 34,
   "metadata": {
    "collapsed": false
   },
   "outputs": [
    {
     "name": "stdout",
     "output_type": "stream",
     "text": [
      "  0.209391 seconds (31.46 M allocations: 480.000 MB, 7.85% gc time)\n"
     ]
    }
   ],
   "source": [
    "@time deliver!(t, ax,ay,az)"
   ]
  },
  {
   "cell_type": "code",
   "execution_count": 32,
   "metadata": {
    "collapsed": false
   },
   "outputs": [
    {
     "data": {
      "text/plain": [
       "1.1641629853468272"
      ]
     },
     "execution_count": 32,
     "metadata": {},
     "output_type": "execute_result"
    }
   ],
   "source": [
    "perf(t.particles, ax, 1000, 1.0e-178)"
   ]
  },
  {
   "cell_type": "code",
   "execution_count": null,
   "metadata": {
    "collapsed": true
   },
   "outputs": [],
   "source": []
  }
 ],
 "metadata": {
  "anaconda-cloud": {},
  "kernelspec": {
   "display_name": "Julia 0.5.0",
   "language": "julia",
   "name": "julia-0.5"
  },
  "language_info": {
   "file_extension": ".jl",
   "mimetype": "application/julia",
   "name": "julia",
   "version": "0.5.0"
  }
 },
 "nbformat": 4,
 "nbformat_minor": 2
}
