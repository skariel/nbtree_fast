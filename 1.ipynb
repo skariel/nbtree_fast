{
 "cells": [
  {
   "cell_type": "code",
   "execution_count": 85,
   "metadata": {
    "collapsed": false
   },
   "outputs": [
    {
     "name": "stderr",
     "output_type": "stream",
     "text": [
      "WARNING: Method definition (::Type{Main.Particle})(Float64, Float64, Float64, Float64, Int64) in module Main at /home/skariel/Desktop/nbtree/lib/particles.jl:2 overwritten at /home/skariel/Desktop/nbtree/lib/particles.jl:2.\n",
      "WARNING: Method definition (::Type{Main.Particle})(Any, Any, Any, Any, Any) in module Main at /home/skariel/Desktop/nbtree/lib/particles.jl:2 overwritten at /home/skariel/Desktop/nbtree/lib/particles.jl:2.\n",
      "WARNING: Method definition myrand() in module Main at /home/skariel/Desktop/nbtree/lib/particles.jl:10 overwritten at /home/skariel/Desktop/nbtree/lib/particles.jl:10.\n",
      "WARNING: Method definition make_particles(Any) in module Main at /home/skariel/Desktop/nbtree/lib/particles.jl:17 overwritten at /home/skariel/Desktop/nbtree/lib/particles.jl:17.\n",
      "WARNING: Method definition (::Type{Main.Node})(Float64, Float64, Float64, Float64, Float64, Float64, Float64, Float64, Float64, Float64, Float64, Int64, Int64, Int64, Int64, Int64, Int64) in module Main at /home/skariel/Desktop/nbtree/lib/tree.jl:3 overwritten at /home/skariel/Desktop/nbtree/lib/tree.jl:3.\n",
      "WARNING: Method definition (::Type{Main.Node})(Any, Any, Any, Any, Any, Any, Any, Any, Any, Any, Any, Any, Any, Any, Any, Any, Any) in module Main at /home/skariel/Desktop/nbtree/lib/tree.jl:3 overwritten at /home/skariel/Desktop/nbtree/lib/tree.jl:3.\n",
      "WARNING: Method definition (::Type{Main.Tree})(Array{Main.Node, 1}, Array{Main.Particle, 1}, Array{Int64, 1}, Int64) in module Main at /home/skariel/Desktop/nbtree/lib/tree.jl:23 overwritten at /home/skariel/Desktop/nbtree/lib/tree.jl:23.\n",
      "WARNING: Method definition (::Type{Main.Tree})(Any, Any, Any, Any) in module Main at /home/skariel/Desktop/nbtree/lib/tree.jl:23 overwritten at /home/skariel/Desktop/nbtree/lib/tree.jl:23.\n",
      "WARNING: Method definition (::Type{Main.Tree})(Any) in module Main at /home/skariel/Desktop/nbtree/lib/tree.jl:30 overwritten at /home/skariel/Desktop/nbtree/lib/tree.jl:30.\n",
      "WARNING: Method definition getminmax(Main.Tree) in module Main at /home/skariel/Desktop/nbtree/lib/tree.jl:35 overwritten at /home/skariel/Desktop/nbtree/lib/tree.jl:35.\n",
      "WARNING: Method definition get_minmax_low(Main.Node) in module Main at /home/skariel/Desktop/nbtree/lib/tree.jl:65 overwritten at /home/skariel/Desktop/nbtree/lib/tree.jl:65.\n",
      "WARNING: Method definition get_minmax_high(Main.Node) in module Main at /home/skariel/Desktop/nbtree/lib/tree.jl:77 overwritten at /home/skariel/Desktop/nbtree/lib/tree.jl:77.\n",
      "WARNING: Method definition group!(Main.Tree, Int64) in module Main at /home/skariel/Desktop/nbtree/lib/tree.jl:89 overwritten at /home/skariel/Desktop/nbtree/lib/tree.jl:89.\n",
      "WARNING: Method definition split!(Any, Any, Any, Any, Any) in module Main at /home/skariel/Desktop/nbtree/lib/tree.jl:252 overwritten at /home/skariel/Desktop/nbtree/lib/tree.jl:252.\n",
      "WARNING: Method definition splitx!(Any, Any, Any, Any) in module Main at /home/skariel/Desktop/nbtree/lib/tree.jl:264 overwritten at /home/skariel/Desktop/nbtree/lib/tree.jl:264.\n",
      "WARNING: Method definition splity!(Any, Any, Any, Any) in module Main at /home/skariel/Desktop/nbtree/lib/tree.jl:265 overwritten at /home/skariel/Desktop/nbtree/lib/tree.jl:265.\n",
      "WARNING: Method definition splitz!(Any, Any, Any, Any) in module Main at /home/skariel/Desktop/nbtree/lib/tree.jl:266 overwritten at /home/skariel/Desktop/nbtree/lib/tree.jl:266.\n",
      "WARNING: Method definition splitdir!(Any, Any) in module Main at /home/skariel/Desktop/nbtree/lib/tree.jl:269 overwritten at /home/skariel/Desktop/nbtree/lib/tree.jl:269.\n",
      "WARNING: Method definition inform!(Main.Tree) in module Main at /home/skariel/Desktop/nbtree/lib/gravity.jl:2 overwritten at /home/skariel/Desktop/nbtree/lib/gravity.jl:2.\n",
      "WARNING: Method definition get_accel(Main.Tree, Int64, Float64, Float64) in module Main at /home/skariel/Desktop/nbtree/lib/gravity.jl:67 overwritten at /home/skariel/Desktop/nbtree/lib/gravity.jl:67.\n",
      "WARNING: Method definition get_all_accel!(Main.Tree, Float64, Float64, Array{Float64, 1}, Array{Float64, 1}, Array{Float64, 1}) in module Main at /home/skariel/Desktop/nbtree/lib/gravity.jl:117 overwritten at /home/skariel/Desktop/nbtree/lib/gravity.jl:117.\n",
      "WARNING: Method definition get_acc(Any, Any, Any) in module Main at /home/skariel/Desktop/nbtree/lib/testing.jl:4 overwritten at /home/skariel/Desktop/nbtree/lib/testing.jl:4.\n",
      "WARNING: Method definition perf(Any, Any, Any, Any) in module Main at /home/skariel/Desktop/nbtree/lib/testing.jl:21 overwritten at /home/skariel/Desktop/nbtree/lib/testing.jl:21.\n",
      "WARNING: Method definition test_in_cell_mass(Main.Tree) in module Main at /home/skariel/Desktop/nbtree/lib/testing.jl:33 overwritten at /home/skariel/Desktop/nbtree/lib/testing.jl:33.\n"
     ]
    }
   ],
   "source": [
    "include(\"lib/all.jl\");"
   ]
  },
  {
   "cell_type": "code",
   "execution_count": 90,
   "metadata": {
    "collapsed": false
   },
   "outputs": [],
   "source": [
    "particles = make_particles(2^20);\n",
    "t = Tree(particles);"
   ]
  },
  {
   "cell_type": "code",
   "execution_count": 112,
   "metadata": {
    "collapsed": false
   },
   "outputs": [
    {
     "name": "stdout",
     "output_type": "stream",
     "text": [
      "  0.096088 seconds (4 allocations: 160 bytes)\n"
     ]
    }
   ],
   "source": [
    "@time group!(t, 8);"
   ]
  },
  {
   "cell_type": "code",
   "execution_count": 113,
   "metadata": {
    "collapsed": false
   },
   "outputs": [
    {
     "name": "stdout",
     "output_type": "stream",
     "text": [
      "  0.018540 seconds (4 allocations: 160 bytes)\n"
     ]
    }
   ],
   "source": [
    "@time inform!(t)"
   ]
  },
  {
   "cell_type": "code",
   "execution_count": 114,
   "metadata": {
    "collapsed": false
   },
   "outputs": [],
   "source": [
    "test_in_cell_mass(t)"
   ]
  },
  {
   "cell_type": "code",
   "execution_count": 115,
   "metadata": {
    "collapsed": true
   },
   "outputs": [],
   "source": [
    "ax = zeros(length(particles))\n",
    "ay = zeros(length(particles))\n",
    "az = zeros(length(particles));"
   ]
  },
  {
   "cell_type": "code",
   "execution_count": 116,
   "metadata": {
    "collapsed": false
   },
   "outputs": [
    {
     "name": "stdout",
     "output_type": "stream",
     "text": [
      " 10"
     ]
    }
   ],
   "source": [
    "@time get_all_accel!(t, 0.5, 0.0001, ax,ay,az)"
   ]
  },
  {
   "cell_type": "code",
   "execution_count": 117,
   "metadata": {
    "collapsed": false
   },
   "outputs": [
    {
     "data": {
      "text/plain": [
       "109.56850240650647"
      ]
     },
     "execution_count": 117,
     "metadata": {},
     "output_type": "execute_result"
    }
   ],
   "source": [
    "perf(particles, ax, 1000, 0.0001)"
   ]
  },
  {
   "cell_type": "code",
   "execution_count": null,
   "metadata": {
    "collapsed": true
   },
   "outputs": [],
   "source": []
  }
 ],
 "metadata": {
  "anaconda-cloud": {},
  "kernelspec": {
   "display_name": "Julia 0.5.0",
   "language": "julia",
   "name": "julia-0.5"
  },
  "language_info": {
   "file_extension": ".jl",
   "mimetype": "application/julia",
   "name": "julia",
   "version": "0.5.0"
  }
 },
 "nbformat": 4,
 "nbformat_minor": 2
}
