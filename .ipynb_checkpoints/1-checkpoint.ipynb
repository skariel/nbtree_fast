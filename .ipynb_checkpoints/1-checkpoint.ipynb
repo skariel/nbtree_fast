{
 "cells": [
  {
   "cell_type": "code",
   "execution_count": 1,
   "metadata": {
    "collapsed": false
   },
   "outputs": [],
   "source": [
    "using PyPlot\n",
    "include(\"lib/all.jl\");"
   ]
  },
  {
   "cell_type": "code",
   "execution_count": 2,
   "metadata": {
    "collapsed": false
   },
   "outputs": [],
   "source": [
    "N=2^20\n",
    "ax = zeros(N)\n",
    "ay = zeros(N)\n",
    "az = zeros(N);\n",
    "\n",
    "particles = make_particles(N);\n",
    "t = DTree(particles, 12);"
   ]
  },
  {
   "cell_type": "code",
   "execution_count": 3,
   "metadata": {
    "collapsed": false
   },
   "outputs": [
    {
     "name": "stdout",
     "output_type": "stream",
     "text": [
      "  0.027046 seconds (4.74 k allocations: 210.922 KB)\n"
     ]
    }
   ],
   "source": [
    "@time fill!(t.tree.nodes, Node());"
   ]
  },
  {
   "cell_type": "code",
   "execution_count": 4,
   "metadata": {
    "collapsed": false
   },
   "outputs": [
    {
     "name": "stdout",
     "output_type": "stream",
     "text": [
      "  0.024662 seconds (4.63 k allocations: 208.969 KB)\n"
     ]
    }
   ],
   "source": [
    "@time fill!(t.tree.exps, NodeExp());"
   ]
  },
  {
   "cell_type": "code",
   "execution_count": 5,
   "metadata": {
    "collapsed": false
   },
   "outputs": [
    {
     "name": "stdout",
     "output_type": "stream",
     "text": [
      "  "
     ]
    }
   ],
   "source": [
    "@time group!(t);"
   ]
  },
  {
   "cell_type": "code",
   "execution_count": 6,
   "metadata": {
    "collapsed": false
   },
   "outputs": [
    {
     "name": "stdout",
     "output_type": "stream",
     "text": [
      "  0.188956 seconds (791.35 k allocations: 15.861 MB)\n"
     ]
    }
   ],
   "source": [
    "@time inform!(t);"
   ]
  },
  {
   "cell_type": "code",
   "execution_count": 7,
   "metadata": {
    "collapsed": false
   },
   "outputs": [],
   "source": [
    "fill!(ax,0.0)\n",
    "fill!(ay,0.0)\n",
    "fill!(az,0.0);"
   ]
  },
  {
   "cell_type": "code",
   "execution_count": 8,
   "metadata": {
    "collapsed": false
   },
   "outputs": [
    {
     "name": "stdout",
     "output_type": "stream",
     "text": [
      "  2.049601 seconds (4.64 M allocations: 104.893 MB, 4.53% gc time)\n"
     ]
    }
   ],
   "source": [
    "@time interact!(t, 0.3, ax, ay, az, 1.0e-3);"
   ]
  },
  {
   "cell_type": "code",
   "execution_count": 9,
   "metadata": {
    "collapsed": false
   },
   "outputs": [
    {
     "name": "stdout",
     "output_type": "stream",
     "text": [
      "  0.190418 seconds (7.69 M allocations: 118.607 MB, 4.32% gc time)\n"
     ]
    }
   ],
   "source": [
    "@time collect!(t)"
   ]
  },
  {
   "cell_type": "code",
   "execution_count": 10,
   "metadata": {
    "collapsed": false
   },
   "outputs": [
    {
     "name": "stdout",
     "output_type": "stream",
     "text": [
      "  0.096539 seconds (78.76 k allocations: 2.837 MB)\n"
     ]
    }
   ],
   "source": [
    "@time accel!(t, ax,ay,az)"
   ]
  },
  {
   "cell_type": "code",
   "execution_count": 12,
   "metadata": {
    "collapsed": false
   },
   "outputs": [
    {
     "data": {
      "text/plain": [
       "5.167314287693173"
      ]
     },
     "execution_count": 12,
     "metadata": {},
     "output_type": "execute_result"
    }
   ],
   "source": [
    "mean(abs(ax))/1e5"
   ]
  },
  {
   "cell_type": "code",
   "execution_count": null,
   "metadata": {
    "collapsed": false,
    "scrolled": true
   },
   "outputs": [],
   "source": [
    "mx,myd,e50,e90,e95,e99,m,s = perf(particles, ax,ay,az, 10000, 1.0e-3)\n",
    "print(myd)"
   ]
  },
  {
   "cell_type": "code",
   "execution_count": null,
   "metadata": {
    "collapsed": false
   },
   "outputs": [],
   "source": [
    "semilogx(10.^mx,myd,\"-k\")"
   ]
  },
  {
   "cell_type": "code",
   "execution_count": null,
   "metadata": {
    "collapsed": false
   },
   "outputs": [],
   "source": [
    "e50"
   ]
  },
  {
   "cell_type": "code",
   "execution_count": null,
   "metadata": {
    "collapsed": false
   },
   "outputs": [],
   "source": [
    "e90"
   ]
  },
  {
   "cell_type": "code",
   "execution_count": null,
   "metadata": {
    "collapsed": false
   },
   "outputs": [],
   "source": [
    "e99"
   ]
  },
  {
   "cell_type": "code",
   "execution_count": 13,
   "metadata": {
    "collapsed": false
   },
   "outputs": [
    {
     "data": {
      "text/plain": [
       "doall (generic function with 1 method)"
      ]
     },
     "execution_count": 13,
     "metadata": {},
     "output_type": "execute_result"
    }
   ],
   "source": [
    "function doall(t, ax,ay,az, alpha, eps2)\n",
    "    total_mass = t.trees[1].total_mass\n",
    "    for it in t.trees\n",
    "        fill!(it.exps, NodeExp());\n",
    "        it.total_mass = total_mass\n",
    "    end\n",
    "    tic()\n",
    "    group!(t)\n",
    "    t_group = toq()\n",
    "    tic()\n",
    "    inform!(t)\n",
    "    t_inf = toq()\n",
    "    fill!(ax,0.0)\n",
    "    fill!(ay,0.0)\n",
    "    fill!(az,0.0)\n",
    "    tic()\n",
    "    interact!(t, alpha, ax, ay, az, eps2)\n",
    "    t_int = toq()\n",
    "    tic()\n",
    "    collect!(t)\n",
    "    t_coll = toq()\n",
    "    tic()\n",
    "    accel!(t,ax,ay,az)\n",
    "    t_acc = toq()\n",
    "    t_group, t_inf, t_int, t_coll, t_acc\n",
    "end"
   ]
  },
  {
   "cell_type": "code",
   "execution_count": 14,
   "metadata": {
    "collapsed": false
   },
   "outputs": [
    {
     "name": "stdout",
     "output_type": "stream",
     "text": [
      "i = 1\n",
      "i = 2\n",
      "i = 3\n",
      "i = 4\n",
      "i = 5\n",
      "i = 6\n",
      "i = 7\n",
      "i = 8\n",
      "i = 9\n",
      "i = 10\n",
      "i = 11\n",
      "i = 12\n",
      "i = 13\n",
      "i = 14\n",
      "i = 15\n",
      "i = 16\n",
      "i = 17\n",
      "i = 18\n",
      "i = 19\n",
      "i = "
     ]
    }
   ],
   "source": [
    "s_g = Float64[]\n",
    "s_inf = Float64[]\n",
    "s_int = Float64[]\n",
    "s_coll = Float64[]\n",
    "s_acc = Float64[]\n",
    "s_all = Float64[]\n",
    "for i in 1:20\n",
    "    tic()\n",
    "    t_group, t_inf, t_int, t_coll, t_acc = doall(t, ax, ay, az, 0.3, 1.0e-3);\n",
    "    t_all = toq()\n",
    "    append!(s_g, t_group)\n",
    "    append!(s_inf, t_inf)\n",
    "    append!(s_int, t_int)\n",
    "    append!(s_coll, t_coll)\n",
    "    append!(s_acc, t_acc)\n",
    "    append!(s_all, t_all)\n",
    "    @show i\n",
    "end"
   ]
  },
  {
   "cell_type": "code",
   "execution_count": 15,
   "metadata": {
    "collapsed": false
   },
   "outputs": [
    {
     "name": "stdout",
     "output_type": "stream",
     "text": [
      "mean(s_g) = 0.0397517434\n",
      "mean(s_inf) = 0.0258203757\n",
      "mean(s_int) = 0.28041327660000004\n",
      "mean(s_coll) = 0.08950073815000001\n",
      "mean(s_acc) = 0.0078245597\n",
      "mean(s_all) = 0.46067683449999997\n"
     ]
    }
   ],
   "source": [
    "@show mean(s_g)\n",
    "@show mean(s_inf)\n",
    "@show mean(s_int)\n",
    "@show mean(s_coll)\n",
    "@show mean(s_acc)\n",
    "@show mean(s_all);"
   ]
  },
  {
   "cell_type": "code",
   "execution_count": null,
   "metadata": {
    "collapsed": true
   },
   "outputs": [],
   "source": []
  }
 ],
 "metadata": {
  "anaconda-cloud": {},
  "kernelspec": {
   "display_name": "Julia 0.5.0",
   "language": "julia",
   "name": "julia-0.5"
  },
  "language_info": {
   "file_extension": ".jl",
   "mimetype": "application/julia",
   "name": "julia",
   "version": "0.5.0"
  }
 },
 "nbformat": 4,
 "nbformat_minor": 2
}
