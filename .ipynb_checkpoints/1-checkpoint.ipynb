{
 "cells": [
  {
   "cell_type": "code",
   "execution_count": 1,
   "metadata": {
    "collapsed": false
   },
   "outputs": [],
   "source": [
    "include(\"lib/all.jl\");"
   ]
  },
  {
   "cell_type": "code",
   "execution_count": 16,
   "metadata": {
    "collapsed": false
   },
   "outputs": [],
   "source": [
    "particles = make_particles(2^20);\n",
    "t = Tree(particles, 4);"
   ]
  },
  {
   "cell_type": "code",
   "execution_count": 19,
   "metadata": {
    "collapsed": false
   },
   "outputs": [
    {
     "name": "stdout",
     "output_type": "stream",
     "text": [
      "  0.119828 seconds (4 allocations: 160 bytes)\n"
     ]
    }
   ],
   "source": [
    "@time group!(t);"
   ]
  },
  {
   "cell_type": "code",
   "execution_count": 20,
   "metadata": {
    "collapsed": false
   },
   "outputs": [
    {
     "name": "stdout",
     "output_type": "stream",
     "text": [
      "  0.104616 seconds (1.63 M allocations: 24.939 MB, 0.96% gc time)\n"
     ]
    }
   ],
   "source": [
    "@time inform!(t);"
   ]
  },
  {
   "cell_type": "code",
   "execution_count": 21,
   "metadata": {
    "collapsed": true
   },
   "outputs": [],
   "source": [
    "ax = zeros(length(particles))\n",
    "ay = zeros(length(particles))\n",
    "az = zeros(length(particles));"
   ]
  },
  {
   "cell_type": "code",
   "execution_count": 22,
   "metadata": {
    "collapsed": false
   },
   "outputs": [
    {
     "name": "stdout",
     "output_type": "stream",
     "text": [
      "  5.040575 seconds (411.33 k allocations: 131.805 MB, 0.88% gc time)\n"
     ]
    }
   ],
   "source": [
    "@time interact!(t, 0.2, ax, ay, az);"
   ]
  },
  {
   "cell_type": "code",
   "execution_count": 7,
   "metadata": {
    "collapsed": false
   },
   "outputs": [
    {
     "ename": "LoadError",
     "evalue": "type Tree has no field stack",
     "output_type": "error",
     "traceback": [
      "type Tree has no field stack",
      "",
      " in test_in_cell_mass(::Tree) at /home/skariel/Desktop/nbtree/lib/testing.jl:49"
     ]
    }
   ],
   "source": [
    "test_in_cell_mass(t)"
   ]
  },
  {
   "cell_type": "code",
   "execution_count": 46,
   "metadata": {
    "collapsed": false
   },
   "outputs": [
    {
     "name": "stdout",
     "output_type": "stream",
     "text": [
      "  9.866667 seconds (4 allocations: 160 bytes)\n"
     ]
    }
   ],
   "source": [
    "@time get_all_accel!(t, 0.1, 1.0e-157, ax,ay,az)"
   ]
  },
  {
   "cell_type": "code",
   "execution_count": 30,
   "metadata": {
    "collapsed": false
   },
   "outputs": [
    {
     "name": "stdout",
     "output_type": "stream",
     "text": [
      "  6.453248 seconds (4 allocations: 160 bytes)\n"
     ]
    }
   ],
   "source": [
    "@time get_all_accel_rel!(t, 0.02, 1.0e-157, ax,ay,az)"
   ]
  },
  {
   "cell_type": "code",
   "execution_count": 45,
   "metadata": {
    "collapsed": false
   },
   "outputs": [
    {
     "data": {
      "text/plain": [
       "216.19480316386387"
      ]
     },
     "execution_count": 45,
     "metadata": {},
     "output_type": "execute_result"
    }
   ],
   "source": [
    "perf(particles, ax, 1000, 1.0e-157)"
   ]
  },
  {
   "cell_type": "code",
   "execution_count": 13,
   "metadata": {
    "collapsed": false
   },
   "outputs": [
    {
     "name": "stdout",
     "output_type": "stream",
     "text": [
      "x\n",
      "xx\n",
      "xxx\n",
      "xxy\n",
      "xxz\n",
      "xy\n",
      "xyy\n",
      "xyz\n",
      "xz\n",
      "xzz\n",
      "y\n",
      "yy\n",
      "yyy\n",
      "yyz\n",
      "yz\n",
      "yzz\n",
      "z\n",
      "zz\n",
      "zzz\n"
     ]
    }
   ],
   "source": [
    "xyz = [\"x\",\"y\",\"z\"]\n",
    "for x in 1:3\n",
    "    println(xyz[x])\n",
    "    for y in x:3\n",
    "        println(xyz[x]*xyz[y])\n",
    "        for z in y:3\n",
    "            println(xyz[x]*xyz[y]*xyz[z])\n",
    "        end\n",
    "    end\n",
    "end\n"
   ]
  },
  {
   "cell_type": "code",
   "execution_count": null,
   "metadata": {
    "collapsed": true
   },
   "outputs": [],
   "source": []
  }
 ],
 "metadata": {
  "anaconda-cloud": {},
  "kernelspec": {
   "display_name": "Julia 0.5.0",
   "language": "julia",
   "name": "julia-0.5"
  },
  "language_info": {
   "file_extension": ".jl",
   "mimetype": "application/julia",
   "name": "julia",
   "version": "0.5.0"
  }
 },
 "nbformat": 4,
 "nbformat_minor": 2
}
