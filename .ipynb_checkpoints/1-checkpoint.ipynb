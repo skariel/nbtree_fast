{
 "cells": [
  {
   "cell_type": "code",
   "execution_count": 32,
   "metadata": {
    "collapsed": false
   },
   "outputs": [
    {
     "name": "stderr",
     "output_type": "stream",
     "text": [
      "WARNING: Method definition (::Type{Main.Particle})(Float64, Float64, Float64, Float64, Int64) in module Main at /home/skariel/Desktop/nbtree/lib/particles.jl:2 overwritten at /home/skariel/Desktop/nbtree/lib/particles.jl:2.\n",
      "WARNING: Method definition (::Type{Main.Particle})(Any, Any, Any, Any, Any) in module Main at /home/skariel/Desktop/nbtree/lib/particles.jl:2 overwritten at /home/skariel/Desktop/nbtree/lib/particles.jl:2.\n",
      "WARNING: Method definition myrand() in module Main at /home/skariel/Desktop/nbtree/lib/particles.jl:10 overwritten at /home/skariel/Desktop/nbtree/lib/particles.jl:10.\n",
      "WARNING: Method definition make_particles(Any) in module Main at /home/skariel/Desktop/nbtree/lib/particles.jl:17 overwritten at /home/skariel/Desktop/nbtree/lib/particles.jl:17.\n",
      "WARNING: Method definition (::Type{Main.Node})(Float64, Float64, Float64, Float64, Float64, Float64, Float64, Float64, Float64, Float64, Float64, Int64, Int64, Int64, Int64, Int64, Int64, Float64, Float64, Float64, Float64, Float64, Float64, Float64, Float64, Float64, Float64, Float64, Float64, Float64, Float64, Float64, Float64, Float64, Float64, Float64) in module Main at /home/skariel/Desktop/nbtree/lib/tree.jl:3 overwritten at /home/skariel/Desktop/nbtree/lib/tree.jl:3.\n",
      "WARNING: Method definition (::Type{Main.Node})(Any, Any, Any, Any, Any, Any, Any, Any, Any, Any, Any, Any, Any, Any, Any, Any, Any, Any, Any, Any, Any, Any, Any, Any, Any, Any, Any, Any, Any, Any, Any, Any, Any, Any, Any, Any) in module Main at /home/skariel/Desktop/nbtree/lib/tree.jl:3 overwritten at /home/skariel/Desktop/nbtree/lib/tree.jl:3.\n",
      "WARNING: Method definition (::Type{Main.Tree})(Float64, Array{Main.Node, 1}, Array{Main.Particle, 1}, Array{Int64, 1}, Array{Int64, 1}, Array{Int64, 1}, Int64, Int64) in module Main at /home/skariel/Desktop/nbtree/lib/tree.jl:43 overwritten at /home/skariel/Desktop/nbtree/lib/tree.jl:43.\n",
      "WARNING: Method definition (::Type{Main.Tree})(Any, Any, Any, Any, Any, Any, Any, Any) in module Main at /home/skariel/Desktop/nbtree/lib/tree.jl:43 overwritten at /home/skariel/Desktop/nbtree/lib/tree.jl:43.\n",
      "WARNING: Method definition (::Type{Main.Tree})(Any, Any) in module Main at /home/skariel/Desktop/nbtree/lib/tree.jl:54 overwritten at /home/skariel/Desktop/nbtree/lib/tree.jl:54.\n",
      "WARNING: Method definition getminmax(Main.Tree) in module Main at /home/skariel/Desktop/nbtree/lib/tree.jl:59 overwritten at /home/skariel/Desktop/nbtree/lib/tree.jl:59.\n",
      "WARNING: Method definition get_minmax_low(Main.Node) in module Main at /home/skariel/Desktop/nbtree/lib/tree.jl:89 overwritten at /home/skariel/Desktop/nbtree/lib/tree.jl:89.\n",
      "WARNING: Method definition get_minmax_high(Main.Node) in module Main at /home/skariel/Desktop/nbtree/lib/tree.jl:101 overwritten at /home/skariel/Desktop/nbtree/lib/tree.jl:101.\n",
      "WARNING: Method definition group!(Main.Tree) in module Main at /home/skariel/Desktop/nbtree/lib/tree.jl:113 overwritten at /home/skariel/Desktop/nbtree/lib/tree.jl:113.\n",
      "WARNING: Method definition split!(Any, Any, Any, Any, Any) in module Main at /home/skariel/Desktop/nbtree/lib/tree.jl:296 overwritten at /home/skariel/Desktop/nbtree/lib/tree.jl:296.\n",
      "WARNING: Method definition splitx!(Any, Any, Any, Any) in module Main at /home/skariel/Desktop/nbtree/lib/tree.jl:308 overwritten at /home/skariel/Desktop/nbtree/lib/tree.jl:308.\n",
      "WARNING: Method definition splity!(Any, Any, Any, Any) in module Main at /home/skariel/Desktop/nbtree/lib/tree.jl:309 overwritten at /home/skariel/Desktop/nbtree/lib/tree.jl:309.\n",
      "WARNING: Method definition splitz!(Any, Any, Any, Any) in module Main at /home/skariel/Desktop/nbtree/lib/tree.jl:310 overwritten at /home/skariel/Desktop/nbtree/lib/tree.jl:310.\n",
      "WARNING: Method definition splitdir!(Any, Any) in module Main at /home/skariel/Desktop/nbtree/lib/tree.jl:313 overwritten at /home/skariel/Desktop/nbtree/lib/tree.jl:313.\n",
      "WARNING: Method definition inform!(Main.Tree) in module Main at /home/skariel/Desktop/nbtree/lib/gravity.jl:2 overwritten at /home/skariel/Desktop/nbtree/lib/gravity.jl:2.\n",
      "WARNING: Method definition add_expansion_to_n1(Any, Any) in module Main at /home/skariel/Desktop/nbtree/lib/gravity.jl:136 overwritten at /home/skariel/Desktop/nbtree/lib/gravity.jl:136.\n",
      "WARNING: Method definition get_accel_from_node(Any, Any, Any, Any) in module Main at /home/skariel/Desktop/nbtree/lib/gravity.jl:249 overwritten at /home/skariel/Desktop/nbtree/lib/gravity.jl:249.\n",
      "WARNING: Method definition interact!(Main.Tree, Float64, Any, Any, Any) in module Main at /home/skariel/Desktop/nbtree/lib/gravity.jl:302 overwritten at /home/skariel/Desktop/nbtree/lib/gravity.jl:302.\n",
      "WARNING: Method definition get_acc(Any, Any, Any) in module Main at /home/skariel/Desktop/nbtree/lib/testing.jl:4 overwritten at /home/skariel/Desktop/nbtree/lib/testing.jl:4.\n",
      "WARNING: Method definition perf(Any, Any, Any, Any) in module Main at /home/skariel/Desktop/nbtree/lib/testing.jl:21 overwritten at /home/skariel/Desktop/nbtree/lib/testing.jl:21.\n",
      "WARNING: Method definition test_in_cell_mass(Main.Tree) in module Main at /home/skariel/Desktop/nbtree/lib/testing.jl:33 overwritten at /home/skariel/Desktop/nbtree/lib/testing.jl:33.\n",
      "WARNING: Method definition get_random_node() in module Main at /home/skariel/Desktop/nbtree/lib/testing.jl:147 overwritten at /home/skariel/Desktop/nbtree/lib/testing.jl:147.\n",
      "WARNING: Method definition calc_pot(Any, Any, Any, Any) in module Main at /home/skariel/Desktop/nbtree/lib/testing.jl:189 overwritten at /home/skariel/Desktop/nbtree/lib/testing.jl:189.\n",
      "WARNING: Method definition get_numerical_ax(Any, Any, Any, Any) in module Main at /home/skariel/Desktop/nbtree/lib/testing.jl:218 overwritten at /home/skariel/Desktop/nbtree/lib/testing.jl:218.\n",
      "WARNING: Method definition get_numerical_ay(Any, Any, Any, Any) in module Main at /home/skariel/Desktop/nbtree/lib/testing.jl:223 overwritten at /home/skariel/Desktop/nbtree/lib/testing.jl:223.\n",
      "WARNING: Method definition get_numerical_az(Any, Any, Any, Any) in module Main at /home/skariel/Desktop/nbtree/lib/testing.jl:228 overwritten at /home/skariel/Desktop/nbtree/lib/testing.jl:228.\n",
      "WARNING: Method definition test_acc() in module Main at /home/skariel/Desktop/nbtree/lib/testing.jl:233 overwritten at /home/skariel/Desktop/nbtree/lib/testing.jl:233.\n",
      "WARNING: Method definition test_mov() in module Main at /home/skariel/Desktop/nbtree/lib/testing.jl:284 overwritten at /home/skariel/Desktop/nbtree/lib/testing.jl:284.\n"
     ]
    }
   ],
   "source": [
    "include(\"lib/all.jl\");"
   ]
  },
  {
   "cell_type": "code",
   "execution_count": 34,
   "metadata": {
    "collapsed": false
   },
   "outputs": [
    {
     "name": "stdout",
     "output_type": "stream",
     "text": [
      "dx = 1.3321965030449405\n",
      "(n1.x,n1.y,n1.z) = (-0.5508845070087492,-0.4033341931593961,-1.9378670111623084)\n",
      "(x,y,z) = (-0.054941908645894495,1.3011798905455128,-1.630709706987188)\n",
      "(dax,nax) = (0.25781188371930996,0.6012679736536035)\n",
      "(dax1,dax2) = (-2.915216527680124,3.173028411399434)\n"
     ]
    },
    {
     "data": {
      "text/plain": [
       "1"
      ]
     },
     "execution_count": 34,
     "metadata": {},
     "output_type": "execute_result"
    }
   ],
   "source": [
    "test_mov()"
   ]
  },
  {
   "cell_type": "code",
   "execution_count": 26,
   "metadata": {
    "collapsed": false
   },
   "outputs": [
    {
     "data": {
      "text/plain": [
       "839409"
      ]
     },
     "execution_count": 26,
     "metadata": {},
     "output_type": "execute_result"
    }
   ],
   "source": [
    "test_acc()"
   ]
  },
  {
   "cell_type": "code",
   "execution_count": 9,
   "metadata": {
    "collapsed": false
   },
   "outputs": [],
   "source": [
    "particles = make_particles(2^20);\n",
    "t = Tree(particles, 16);"
   ]
  },
  {
   "cell_type": "code",
   "execution_count": 13,
   "metadata": {
    "collapsed": false
   },
   "outputs": [
    {
     "name": "stdout",
     "output_type": "stream",
     "text": [
      "  0.088949 seconds (4 allocations: 160 bytes)\n"
     ]
    }
   ],
   "source": [
    "@time group!(t);"
   ]
  },
  {
   "cell_type": "code",
   "execution_count": 14,
   "metadata": {
    "collapsed": false
   },
   "outputs": [
    {
     "name": "stdout",
     "output_type": "stream",
     "text": [
      "  0.059212 seconds (834.58 k allocations: 12.735 MB)\n"
     ]
    }
   ],
   "source": [
    "@time inform!(t);"
   ]
  },
  {
   "cell_type": "code",
   "execution_count": 15,
   "metadata": {
    "collapsed": false
   },
   "outputs": [],
   "source": [
    "test_in_cell_mass(t)"
   ]
  },
  {
   "cell_type": "code",
   "execution_count": 29,
   "metadata": {
    "collapsed": true
   },
   "outputs": [],
   "source": [
    "ax = zeros(length(particles))\n",
    "ay = zeros(length(particles))\n",
    "az = zeros(length(particles));"
   ]
  },
  {
   "cell_type": "code",
   "execution_count": 34,
   "metadata": {
    "collapsed": false
   },
   "outputs": [
    {
     "name": "stdout",
     "output_type": "stream",
     "text": [
      "  1.810878 seconds (4.81 M allocations: 1.506 GB, 1.86% gc time)\n"
     ]
    }
   ],
   "source": [
    "@time interact!(t, 0.5, ax, ay, az);"
   ]
  },
  {
   "cell_type": "code",
   "execution_count": 1,
   "metadata": {
    "collapsed": false
   },
   "outputs": [
    {
     "data": {
      "text/plain": [
       "pt (generic function with 1 method)"
      ]
     },
     "execution_count": 1,
     "metadata": {},
     "output_type": "execute_result"
    }
   ],
   "source": [
    "f1 = randn()\n",
    "f2 = randn()\n",
    "f1x = randn()\n",
    "f2x = randn()\n",
    "f1xx = randn()\n",
    "f2xx = randn()\n",
    "x1 = randn()\n",
    "x2 = randn()\n",
    "p1(x) = f1 + f1x*(x-x1) + f1xx*(x-x1)^2/2\n",
    "p2(x) = f2 + f2x*(x-x2) + f2xx*(x-x2)^2/2\n",
    "pt(x) = f1+f2+f2x*(x1-x2)+f2xx*(x1-x2)^2/2 + (f1x+f2x+f2xx*(x1-x2))*(x-x1) + (f1xx+f2xx)*(x-x1)^2/2\n",
    "\n"
   ]
  },
  {
   "cell_type": "code",
   "execution_count": 2,
   "metadata": {
    "collapsed": false
   },
   "outputs": [
    {
     "data": {
      "text/plain": [
       "-23.347405571339813"
      ]
     },
     "execution_count": 2,
     "metadata": {},
     "output_type": "execute_result"
    }
   ],
   "source": [
    "p1(5)+p2(5)"
   ]
  },
  {
   "cell_type": "code",
   "execution_count": 3,
   "metadata": {
    "collapsed": false
   },
   "outputs": [
    {
     "data": {
      "text/plain": [
       "-23.347405571339806"
      ]
     },
     "execution_count": 3,
     "metadata": {},
     "output_type": "execute_result"
    }
   ],
   "source": [
    "pt(5)"
   ]
  },
  {
   "cell_type": "code",
   "execution_count": null,
   "metadata": {
    "collapsed": true
   },
   "outputs": [],
   "source": []
  }
 ],
 "metadata": {
  "anaconda-cloud": {},
  "kernelspec": {
   "display_name": "Julia 0.5.0",
   "language": "julia",
   "name": "julia-0.5"
  },
  "language_info": {
   "file_extension": ".jl",
   "mimetype": "application/julia",
   "name": "julia",
   "version": "0.5.0"
  }
 },
 "nbformat": 4,
 "nbformat_minor": 2
}
