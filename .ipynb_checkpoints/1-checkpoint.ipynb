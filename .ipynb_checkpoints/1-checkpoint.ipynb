{
 "cells": [
  {
   "cell_type": "code",
   "execution_count": 1,
   "metadata": {
    "collapsed": false
   },
   "outputs": [],
   "source": [
    "using PyPlot\n",
    "include(\"lib/all.jl\");"
   ]
  },
  {
   "cell_type": "code",
   "execution_count": 2,
   "metadata": {
    "collapsed": false
   },
   "outputs": [
    {
     "data": {
      "text/plain": [
       "706349"
      ]
     },
     "execution_count": 2,
     "metadata": {},
     "output_type": "execute_result"
    }
   ],
   "source": [
    "test_mov()"
   ]
  },
  {
   "cell_type": "code",
   "execution_count": 3,
   "metadata": {
    "collapsed": false
   },
   "outputs": [
    {
     "data": {
      "text/plain": [
       "839503"
      ]
     },
     "execution_count": 3,
     "metadata": {},
     "output_type": "execute_result"
    }
   ],
   "source": [
    "test_acc()"
   ]
  },
  {
   "cell_type": "code",
   "execution_count": 4,
   "metadata": {
    "collapsed": false
   },
   "outputs": [],
   "source": [
    "particles = make_particles(2^20);\n",
    "t = Tree(particles, 12);"
   ]
  },
  {
   "cell_type": "code",
   "execution_count": 5,
   "metadata": {
    "collapsed": false
   },
   "outputs": [
    {
     "name": "stdout",
     "output_type": "stream",
     "text": [
      "  0.201957 seconds (68.10 k allocations: 2.562 MB)\n"
     ]
    }
   ],
   "source": [
    "@time group!(t);"
   ]
  },
  {
   "cell_type": "code",
   "execution_count": 6,
   "metadata": {
    "collapsed": false
   },
   "outputs": [
    {
     "name": "stdout",
     "output_type": "stream",
     "text": [
      "  0.100448 seconds (1.15 M allocations: 18.612 MB)\n"
     ]
    }
   ],
   "source": [
    "@time inform!(t);"
   ]
  },
  {
   "cell_type": "code",
   "execution_count": 7,
   "metadata": {
    "collapsed": false
   },
   "outputs": [
    {
     "name": "stdout",
     "output_type": "stream",
     "text": [
      "dx = 7.0\n",
      "dx3 = 343.0\n",
      "(get_accel_from_node(n1,e1,n1.x,n1.y,n1.z))[1] = 0.017640358229920005\n",
      "(get_accel_from_node(n1,e1,tx,ty,tz))[1] = 0.028808177611957104\n",
      "((dx * m) / dr2) / sqrt(dr2) = 0.025613908599594084\n",
      "px = 0.017640358229920005\n",
      "pxx = 0.0043400881359327\n",
      "pxxx = 0.001506326885888231\n",
      "pxy = -0.0019600398033244454\n"
     ]
    }
   ],
   "source": [
    "test_exp();"
   ]
  },
  {
   "cell_type": "code",
   "execution_count": 8,
   "metadata": {
    "collapsed": false
   },
   "outputs": [],
   "source": [
    "test_in_cell_mass(t)"
   ]
  },
  {
   "cell_type": "code",
   "execution_count": 9,
   "metadata": {
    "collapsed": true
   },
   "outputs": [],
   "source": [
    "ax = zeros(length(particles))\n",
    "ay = zeros(length(particles))\n",
    "az = zeros(length(particles));"
   ]
  },
  {
   "cell_type": "code",
   "execution_count": 10,
   "metadata": {
    "collapsed": false
   },
   "outputs": [
    {
     "name": "stdout",
     "output_type": "stream",
     "text": [
      " 18.113564 seconds (221.44 M allocations: 3.307 GB, 0.82% gc time)\n"
     ]
    }
   ],
   "source": [
    "@time interact!(t, 1.5, ax, ay, az);"
   ]
  },
  {
   "cell_type": "code",
   "execution_count": 11,
   "metadata": {
    "collapsed": false
   },
   "outputs": [
    {
     "name": "stdout",
     "output_type": "stream",
     "text": [
      "  0.130447 seconds (8.33 M allocations: 127.525 MB, 4.77% gc time)\n"
     ]
    }
   ],
   "source": [
    "@time collect!(t, ax,ay,az)"
   ]
  },
  {
   "cell_type": "code",
   "execution_count": 12,
   "metadata": {
    "collapsed": false
   },
   "outputs": [
    {
     "name": "stdout",
     "output_type": "stream",
     "text": [
      "  0.247670 seconds (31.48 M allocations: 480.588 MB, 8.77% gc time)\n"
     ]
    }
   ],
   "source": [
    "@time deliver!(t, ax,ay,az)"
   ]
  },
  {
   "cell_type": "code",
   "execution_count": null,
   "metadata": {
    "collapsed": false
   },
   "outputs": [],
   "source": [
    "mx,myda,e50,e90,e95,e99,m,s = perf(t.particles, ax, 5000, 1.0e-178)"
   ]
  },
  {
   "cell_type": "code",
   "execution_count": null,
   "metadata": {
    "collapsed": false
   },
   "outputs": [],
   "source": [
    "myd = [9.0,22.0,40.0,46.0,69.0,92.0,151.0,201.0,303.0,408.0,434.0,502.0,519.0,478.0,404.0,334.0,241.0,173.0,147.0,94.0,76.0,59.0,35.0,31.0]\n",
    "my  = [15.0,29.0,34.0,53.0,75.0,104.0,155.0,230.0,336.0,441.0,611.0,625.0,687.0,696.0,468.0,196.0,67.0,47.0,25.0,25.0,22.0,8.0,13.0,6.0]\n",
    "semilogx(10.^mx,myd,\"-k\")\n",
    "semilogx(10.^mx,my ,\"-r\")\n",
    "semilogx(10.^mx,myda ,\":k\")"
   ]
  },
  {
   "cell_type": "code",
   "execution_count": null,
   "metadata": {
    "collapsed": false
   },
   "outputs": [],
   "source": [
    "e50"
   ]
  },
  {
   "cell_type": "code",
   "execution_count": null,
   "metadata": {
    "collapsed": false
   },
   "outputs": [],
   "source": [
    "e90"
   ]
  },
  {
   "cell_type": "code",
   "execution_count": null,
   "metadata": {
    "collapsed": true
   },
   "outputs": [],
   "source": []
  }
 ],
 "metadata": {
  "anaconda-cloud": {},
  "kernelspec": {
   "display_name": "Julia 0.5.0",
   "language": "julia",
   "name": "julia-0.5"
  },
  "language_info": {
   "file_extension": ".jl",
   "mimetype": "application/julia",
   "name": "julia",
   "version": "0.5.0"
  }
 },
 "nbformat": 4,
 "nbformat_minor": 2
}
