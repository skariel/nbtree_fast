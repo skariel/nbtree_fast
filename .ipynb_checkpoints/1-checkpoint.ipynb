{
 "cells": [
  {
   "cell_type": "code",
   "execution_count": 6,
   "metadata": {
    "collapsed": false
   },
   "outputs": [],
   "source": [
    "using PyPlot\n",
    "include(\"lib/all.jl\");"
   ]
  },
  {
   "cell_type": "code",
   "execution_count": 7,
   "metadata": {
    "collapsed": false
   },
   "outputs": [],
   "source": [
    "N=2^20\n",
    "ax = zeros(N)\n",
    "ay = zeros(N)\n",
    "az = zeros(N);\n",
    "\n",
    "particles = make_particles(N);\n",
    "t = DTree(particles, 16);"
   ]
  },
  {
   "cell_type": "code",
   "execution_count": 8,
   "metadata": {
    "collapsed": false
   },
   "outputs": [
    {
     "name": "stdout",
     "output_type": "stream",
     "text": [
      "  0.021598 seconds (4.61 k allocations: 203.359 KB)\n"
     ]
    }
   ],
   "source": [
    "@time fill!(t.tree.nodes, Node());"
   ]
  },
  {
   "cell_type": "code",
   "execution_count": 9,
   "metadata": {
    "collapsed": false
   },
   "outputs": [
    {
     "name": "stdout",
     "output_type": "stream",
     "text": [
      "  0.025201 seconds (4.63 k allocations: 208.969 KB)\n"
     ]
    }
   ],
   "source": [
    "@time fill!(t.tree.exps, NodeExp());"
   ]
  },
  {
   "cell_type": "code",
   "execution_count": 10,
   "metadata": {
    "collapsed": false
   },
   "outputs": [
    {
     "name": "stdout",
     "output_type": "stream",
     "text": [
      "  0.110408 seconds (110.47 k allocations: 4.571 MB)\n"
     ]
    }
   ],
   "source": [
    "@time group!(t);"
   ]
  },
  {
   "cell_type": "code",
   "execution_count": 15,
   "metadata": {
    "collapsed": false
   },
   "outputs": [
    {
     "name": "stdout",
     "output_type": "stream",
     "text": [
      "  0.022337 seconds (509.12 k allocations: 7.767 MB)\n"
     ]
    }
   ],
   "source": [
    "@time inform!(t);"
   ]
  },
  {
   "cell_type": "code",
   "execution_count": 16,
   "metadata": {
    "collapsed": false
   },
   "outputs": [],
   "source": [
    "fill!(ax,0.0)\n",
    "fill!(ay,0.0)\n",
    "fill!(az,0.0);"
   ]
  },
  {
   "cell_type": "code",
   "execution_count": 17,
   "metadata": {
    "collapsed": false
   },
   "outputs": [
    {
     "name": "stdout",
     "output_type": "stream",
     "text": [
      "  1.926626 seconds (4.61 M allocations: 110.579 MB, 0.95% gc time)\n"
     ]
    }
   ],
   "source": [
    "@time interact!(t, 0.3, ax, ay, az, 1.0e-3);"
   ]
  },
  {
   "cell_type": "code",
   "execution_count": 18,
   "metadata": {
    "collapsed": false
   },
   "outputs": [
    {
     "name": "stdout",
     "output_type": "stream",
     "text": [
      "i = 1\n",
      "i = 2\n",
      "i = 3\n",
      "i = 4\n",
      "i = 5\n",
      "i = 6\n",
      "i = 7\n",
      "i = 8\n",
      "i = 9\n",
      "i = 10\n",
      "i = 11\n",
      "i = "
     ]
    }
   ],
   "source": [
    "ts=Float64[]\n",
    "for i in 1:12\n",
    "    tic()\n",
    "    interact!(t, 0.3, ax, ay, az, 1.0e-3);\n",
    "    append!(ts, toq())\n",
    "    @show i\n",
    "end"
   ]
  },
  {
   "cell_type": "code",
   "execution_count": 19,
   "metadata": {
    "collapsed": false
   },
   "outputs": [
    {
     "data": {
      "text/plain": [
       "0.33139677824999997"
      ]
     },
     "execution_count": 19,
     "metadata": {},
     "output_type": "execute_result"
    }
   ],
   "source": [
    "mean(ts)"
   ]
  },
  {
   "cell_type": "code",
   "execution_count": 20,
   "metadata": {
    "collapsed": false
   },
   "outputs": [
    {
     "name": "stdout",
     "output_type": "stream",
     "text": [
      "  0.214787 seconds (1.96 M allocations: 31.293 MB, 1.88% gc time)\n"
     ]
    }
   ],
   "source": [
    "@time collect!(t)"
   ]
  },
  {
   "cell_type": "code",
   "execution_count": 21,
   "metadata": {
    "collapsed": false
   },
   "outputs": [
    {
     "name": "stdout",
     "output_type": "stream",
     "text": [
      "  0.409819 seconds (31.55 M allocations: 483.150 MB, 14.08% gc time)\n"
     ]
    }
   ],
   "source": [
    "@time accel!(t, ax,ay,az)"
   ]
  },
  {
   "cell_type": "code",
   "execution_count": 13,
   "metadata": {
    "collapsed": false
   },
   "outputs": [
    {
     "data": {
      "image/png": "[encoded data removed]",
      "text/plain": [
       "PyPlot.Figure(PyObject <matplotlib.figure.Figure object at 0x7efa8e5000f0>)"
      ]
     },
     "metadata": {},
     "output_type": "display_data"
    },
    {
     "data": {
      "text/plain": [
       "1-element Array{Any,1}:\n",
       " PyObject <matplotlib.lines.Line2D object at 0x7efa79e077b8>"
      ]
     },
     "execution_count": 13,
     "metadata": {},
     "output_type": "execute_result"
    }
   ],
   "source": [
    "plot(ax)"
   ]
  },
  {
   "cell_type": "code",
   "execution_count": 14,
   "metadata": {
    "collapsed": false
   },
   "outputs": [
    {
     "data": {
      "text/plain": [
       "67.06646202456625"
      ]
     },
     "execution_count": 14,
     "metadata": {},
     "output_type": "execute_result"
    }
   ],
   "source": [
    "mean(abs(ax))/1e5"
   ]
  },
  {
   "cell_type": "code",
   "execution_count": 16,
   "metadata": {
    "collapsed": false,
    "scrolled": true
   },
   "outputs": [
    {
     "name": "stdout",
     "output_type": "stream",
     "text": [
      "mean(abs(rax)) = 518006.82949089276\n",
      "[0.0,1.0,0.0,3.0,1.0,8.0,14.0,36.0,55.0,140.0,284.0,533.0,958.0,1544.0,1838.0,1769.0,1324.0,821.0,387.0,174.0,61.0,39.0,5.0,3.0,0.0,2.0,0.0,0.0,0.0,0.0,0.0,0.0,0.0,0.0]"
     ]
    }
   ],
   "source": [
    "mx,myd,e50,e90,e95,e99,m,s = perf(particles, ax,ay,az, 10000, 1.0e-3)\n",
    "print(myd)"
   ]
  },
  {
   "cell_type": "code",
   "execution_count": 17,
   "metadata": {
    "collapsed": false
   },
   "outputs": [
    {
     "data": {
      "image/png": "[encoded data removed]",
      "text/plain": [
       "PyPlot.Figure(PyObject <matplotlib.figure.Figure object at 0x7f36b3194a90>)"
      ]
     },
     "metadata": {},
     "output_type": "display_data"
    },
    {
     "data": {
      "text/plain": [
       "1-element Array{Any,1}:\n",
       " PyObject <matplotlib.lines.Line2D object at 0x7f36b3171e48>"
      ]
     },
     "execution_count": 17,
     "metadata": {},
     "output_type": "execute_result"
    }
   ],
   "source": [
    "semilogx(10.^mx,myd,\"-k\")"
   ]
  },
  {
   "cell_type": "code",
   "execution_count": 18,
   "metadata": {
    "collapsed": false
   },
   "outputs": [
    {
     "data": {
      "text/plain": [
       "0.5468484345033527"
      ]
     },
     "execution_count": 18,
     "metadata": {},
     "output_type": "execute_result"
    }
   ],
   "source": [
    "e50"
   ]
  },
  {
   "cell_type": "code",
   "execution_count": 19,
   "metadata": {
    "collapsed": false
   },
   "outputs": [
    {
     "data": {
      "text/plain": [
       "1.148927332772525"
      ]
     },
     "execution_count": 19,
     "metadata": {},
     "output_type": "execute_result"
    }
   ],
   "source": [
    "e90"
   ]
  },
  {
   "cell_type": "code",
   "execution_count": 20,
   "metadata": {
    "collapsed": false
   },
   "outputs": [
    {
     "data": {
      "text/plain": [
       "2.339050278927604"
      ]
     },
     "execution_count": 20,
     "metadata": {},
     "output_type": "execute_result"
    }
   ],
   "source": [
    "e99"
   ]
  },
  {
   "cell_type": "code",
   "execution_count": 15,
   "metadata": {
    "collapsed": false
   },
   "outputs": [
    {
     "data": {
      "text/plain": [
       "doall (generic function with 1 method)"
      ]
     },
     "execution_count": 15,
     "metadata": {},
     "output_type": "execute_result"
    }
   ],
   "source": [
    "function doall(t, ax,ay,az, alpha, eps2)\n",
    "    total_mass = t.trees[1].total_mass\n",
    "    for it in t.trees\n",
    "        fill!(it.exps, NodeExp());\n",
    "        it.total_mass = total_mass\n",
    "    end\n",
    "    tic()\n",
    "    group!(t)\n",
    "    t_group = toq()\n",
    "    tic()\n",
    "    inform!(t)\n",
    "    t_inf = toq()\n",
    "    fill!(ax,0.0)\n",
    "    fill!(ay,0.0)\n",
    "    fill!(az,0.0)\n",
    "    tic()\n",
    "    interact!(t, alpha, ax, ay, az, eps2)\n",
    "    t_int = toq()\n",
    "    tic()\n",
    "    collect!(t)\n",
    "    t_coll = toq()\n",
    "    tic()\n",
    "    accel!(t,ax,ay,az)\n",
    "    t_acc = toq()\n",
    "    t_group, t_inf, t_int, t_coll, t_acc\n",
    "end"
   ]
  },
  {
   "cell_type": "code",
   "execution_count": 16,
   "metadata": {
    "collapsed": false
   },
   "outputs": [
    {
     "name": "stdout",
     "output_type": "stream",
     "text": [
      "i = 1\n",
      "i = 2\n",
      "i = 3\n",
      "i = 4\n",
      "i = 5\n",
      "i = 6\n",
      "i = 7\n",
      "i = 8\n",
      "i = 9\n",
      "i = 10\n",
      "i = 11\n",
      "i = 12\n",
      "i = 13\n",
      "i = 14\n",
      "i = 15\n",
      "i = 16\n",
      "i = 17\n",
      "i = 18\n",
      "i = 19\n",
      "i = 20\n"
     ]
    }
   ],
   "source": [
    "s_g = Float64[]\n",
    "s_inf = Float64[]\n",
    "s_int = Float64[]\n",
    "s_coll = Float64[]\n",
    "s_acc = Float64[]\n",
    "s_all = Float64[]\n",
    "for i in 1:20\n",
    "    tic()\n",
    "    t_group, t_inf, t_int, t_coll, t_acc = doall(t, ax, ay, az, 0.3, 1.0e-3);\n",
    "    t_all = toq()\n",
    "    append!(s_g, t_group)\n",
    "    append!(s_inf, t_inf)\n",
    "    append!(s_int, t_int)\n",
    "    append!(s_coll, t_coll)\n",
    "    append!(s_acc, t_acc)\n",
    "    append!(s_all, t_all)\n",
    "    @show i\n",
    "end"
   ]
  },
  {
   "cell_type": "code",
   "execution_count": 17,
   "metadata": {
    "collapsed": false
   },
   "outputs": [
    {
     "name": "stdout",
     "output_type": "stream",
     "text": [
      "mean(s_g) = 0.04205743855\n",
      "mean(s_inf) = 0.026328718450000003\n",
      "mean(s_int) = 0.32659766295000003\n",
      "mean(s_coll) = 0.1598038071\n",
      "mean(s_acc) = 0.097761713\n",
      "mean(s_all) = 0.6718309137\n"
     ]
    }
   ],
   "source": [
    "@show mean(s_g)\n",
    "@show mean(s_inf)\n",
    "@show mean(s_int)\n",
    "@show mean(s_coll)\n",
    "@show mean(s_acc)\n",
    "@show mean(s_all);"
   ]
  },
  {
   "cell_type": "code",
   "execution_count": null,
   "metadata": {
    "collapsed": true
   },
   "outputs": [],
   "source": []
  }
 ],
 "metadata": {
  "anaconda-cloud": {},
  "kernelspec": {
   "display_name": "Julia 0.5.0",
   "language": "julia",
   "name": "julia-0.5"
  },
  "language_info": {
   "file_extension": ".jl",
   "mimetype": "application/julia",
   "name": "julia",
   "version": "0.5.0"
  }
 },
 "nbformat": 4,
 "nbformat_minor": 2
}
